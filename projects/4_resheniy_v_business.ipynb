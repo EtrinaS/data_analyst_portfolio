{
 "cells": [
  {
   "cell_type": "markdown",
   "metadata": {},
   "source": [
    "# Приоритезация гипотез и анализ A/B теста интернет-магазина\n",
    "\n",
    "Вы — аналитик крупного интернет-магазина. Вместе с отделом маркетинга вы подготовили список гипотез для увеличения выручки.\n",
    "Приоритизируйте гипотезы, запустите A/B-тест и проанализируйте результаты. "
   ]
  },
  {
   "cell_type": "markdown",
   "metadata": {},
   "source": [
    "## Часть 0. Подготовительная"
   ]
  },
  {
   "cell_type": "code",
   "execution_count": 1,
   "metadata": {},
   "outputs": [],
   "source": [
    "#импортируем библиотеки\n",
    "import pandas as pd\n",
    "import numpy as np\n",
    "\n",
    "import matplotlib.pyplot as plt\n",
    "\n",
    "from IPython.display import display\n",
    "from IPython.core.interactiveshell import InteractiveShell\n",
    "\n",
    "from scipy import stats as st\n",
    "import math as mth\n",
    "\n",
    "import datetime as dt"
   ]
  },
  {
   "cell_type": "code",
   "execution_count": 2,
   "metadata": {},
   "outputs": [],
   "source": [
    "#вывод всех столбцов\n",
    "pd.set_option('display.max_columns', None)\n",
    " \n",
    "# Сброс ограничений на количество символов в записи\n",
    "pd.set_option('display.max_colwidth', None)"
   ]
  },
  {
   "cell_type": "code",
   "execution_count": 3,
   "metadata": {},
   "outputs": [],
   "source": [
    "#отображение всех выводов из одной ячейки\n",
    "InteractiveShell.ast_node_interactivity = \"all\""
   ]
  },
  {
   "cell_type": "code",
   "execution_count": 4,
   "metadata": {},
   "outputs": [],
   "source": [
    "#функция приведения названия колонок к нижнему регистру, замена пробелов на \"_\"\n",
    "def rename_col(data):\n",
    "    data.columns = data.columns.str.lower().str.replace(' ', '_')\n",
    "    return data.columns"
   ]
  },
  {
   "cell_type": "code",
   "execution_count": 5,
   "metadata": {},
   "outputs": [],
   "source": [
    "#функция вывод первых 5 строк, общей информации и количества пропусков в таблице\n",
    "def base_info(data):\n",
    "    print('Первые 5 строк таблицы')\n",
    "    display(data.head())\n",
    "    \n",
    "    print('Общая информация о таблице')\n",
    "    display(data.info())\n",
    "    \n",
    "    print('Информация о пропусках в таблице')\n",
    "    display(data.isna().sum())"
   ]
  },
  {
   "cell_type": "markdown",
   "metadata": {},
   "source": [
    "## Часть 1. Приоритизация гипотез"
   ]
  },
  {
   "cell_type": "code",
   "execution_count": 6,
   "metadata": {},
   "outputs": [],
   "source": [
    "#сохраняем данные в переменную, разделитель запятая\n",
    "hyp = pd.read_csv('./datasets/hypothesis.csv', sep=',')"
   ]
  },
  {
   "cell_type": "code",
   "execution_count": 7,
   "metadata": {},
   "outputs": [
    {
     "data": {
      "text/html": [
       "<div>\n",
       "<style scoped>\n",
       "    .dataframe tbody tr th:only-of-type {\n",
       "        vertical-align: middle;\n",
       "    }\n",
       "\n",
       "    .dataframe tbody tr th {\n",
       "        vertical-align: top;\n",
       "    }\n",
       "\n",
       "    .dataframe thead th {\n",
       "        text-align: right;\n",
       "    }\n",
       "</style>\n",
       "<table border=\"1\" class=\"dataframe\">\n",
       "  <thead>\n",
       "    <tr style=\"text-align: right;\">\n",
       "      <th></th>\n",
       "      <th>Hypothesis</th>\n",
       "      <th>Reach</th>\n",
       "      <th>Impact</th>\n",
       "      <th>Confidence</th>\n",
       "      <th>Efforts</th>\n",
       "    </tr>\n",
       "  </thead>\n",
       "  <tbody>\n",
       "    <tr>\n",
       "      <th>0</th>\n",
       "      <td>Добавить два новых канала привлечения трафика, что позволит привлекать на 30% больше пользователей</td>\n",
       "      <td>3</td>\n",
       "      <td>10</td>\n",
       "      <td>8</td>\n",
       "      <td>6</td>\n",
       "    </tr>\n",
       "    <tr>\n",
       "      <th>1</th>\n",
       "      <td>Запустить собственную службу доставки, что сократит срок доставки заказов</td>\n",
       "      <td>2</td>\n",
       "      <td>5</td>\n",
       "      <td>4</td>\n",
       "      <td>10</td>\n",
       "    </tr>\n",
       "    <tr>\n",
       "      <th>2</th>\n",
       "      <td>Добавить блоки рекомендаций товаров на сайт интернет магазина, чтобы повысить конверсию и средний чек заказа</td>\n",
       "      <td>8</td>\n",
       "      <td>3</td>\n",
       "      <td>7</td>\n",
       "      <td>3</td>\n",
       "    </tr>\n",
       "    <tr>\n",
       "      <th>3</th>\n",
       "      <td>Изменить структура категорий, что увеличит конверсию, т.к. пользователи быстрее найдут нужный товар</td>\n",
       "      <td>8</td>\n",
       "      <td>3</td>\n",
       "      <td>3</td>\n",
       "      <td>8</td>\n",
       "    </tr>\n",
       "    <tr>\n",
       "      <th>4</th>\n",
       "      <td>Изменить цвет фона главной страницы, чтобы увеличить вовлеченность пользователей</td>\n",
       "      <td>3</td>\n",
       "      <td>1</td>\n",
       "      <td>1</td>\n",
       "      <td>1</td>\n",
       "    </tr>\n",
       "    <tr>\n",
       "      <th>5</th>\n",
       "      <td>Добавить страницу отзывов клиентов о магазине, что позволит увеличить количество заказов</td>\n",
       "      <td>3</td>\n",
       "      <td>2</td>\n",
       "      <td>2</td>\n",
       "      <td>3</td>\n",
       "    </tr>\n",
       "    <tr>\n",
       "      <th>6</th>\n",
       "      <td>Показать на главной странице баннеры с актуальными акциями и распродажами, чтобы увеличить конверсию</td>\n",
       "      <td>5</td>\n",
       "      <td>3</td>\n",
       "      <td>8</td>\n",
       "      <td>3</td>\n",
       "    </tr>\n",
       "    <tr>\n",
       "      <th>7</th>\n",
       "      <td>Добавить форму подписки на все основные страницы, чтобы собрать базу клиентов для email-рассылок</td>\n",
       "      <td>10</td>\n",
       "      <td>7</td>\n",
       "      <td>8</td>\n",
       "      <td>5</td>\n",
       "    </tr>\n",
       "    <tr>\n",
       "      <th>8</th>\n",
       "      <td>Запустить акцию, дающую скидку на товар в день рождения</td>\n",
       "      <td>1</td>\n",
       "      <td>9</td>\n",
       "      <td>9</td>\n",
       "      <td>5</td>\n",
       "    </tr>\n",
       "  </tbody>\n",
       "</table>\n",
       "</div>"
      ],
      "text/plain": [
       "                                                                                                     Hypothesis  \\\n",
       "0            Добавить два новых канала привлечения трафика, что позволит привлекать на 30% больше пользователей   \n",
       "1                                     Запустить собственную службу доставки, что сократит срок доставки заказов   \n",
       "2  Добавить блоки рекомендаций товаров на сайт интернет магазина, чтобы повысить конверсию и средний чек заказа   \n",
       "3           Изменить структура категорий, что увеличит конверсию, т.к. пользователи быстрее найдут нужный товар   \n",
       "4                              Изменить цвет фона главной страницы, чтобы увеличить вовлеченность пользователей   \n",
       "5                      Добавить страницу отзывов клиентов о магазине, что позволит увеличить количество заказов   \n",
       "6          Показать на главной странице баннеры с актуальными акциями и распродажами, чтобы увеличить конверсию   \n",
       "7              Добавить форму подписки на все основные страницы, чтобы собрать базу клиентов для email-рассылок   \n",
       "8                                                       Запустить акцию, дающую скидку на товар в день рождения   \n",
       "\n",
       "   Reach  Impact  Confidence  Efforts  \n",
       "0      3      10           8        6  \n",
       "1      2       5           4       10  \n",
       "2      8       3           7        3  \n",
       "3      8       3           3        8  \n",
       "4      3       1           1        1  \n",
       "5      3       2           2        3  \n",
       "6      5       3           8        3  \n",
       "7     10       7           8        5  \n",
       "8      1       9           9        5  "
      ]
     },
     "execution_count": 7,
     "metadata": {},
     "output_type": "execute_result"
    }
   ],
   "source": [
    "hyp"
   ]
  },
  {
   "cell_type": "code",
   "execution_count": 8,
   "metadata": {},
   "outputs": [
    {
     "data": {
      "text/plain": [
       "Index(['hypothesis', 'reach', 'impact', 'confidence', 'efforts'], dtype='object')"
      ]
     },
     "execution_count": 8,
     "metadata": {},
     "output_type": "execute_result"
    }
   ],
   "source": [
    "#Приведем названия колонок к общему виду\n",
    "rename_col(hyp)"
   ]
  },
  {
   "cell_type": "code",
   "execution_count": 9,
   "metadata": {},
   "outputs": [
    {
     "name": "stdout",
     "output_type": "stream",
     "text": [
      "                                                                                                     hypothesis  \\\n",
      "8                                                       Запустить акцию, дающую скидку на товар в день рождения   \n",
      "0            Добавить два новых канала привлечения трафика, что позволит привлекать на 30% больше пользователей   \n",
      "7              Добавить форму подписки на все основные страницы, чтобы собрать базу клиентов для email-рассылок   \n",
      "6          Показать на главной странице баннеры с актуальными акциями и распродажами, чтобы увеличить конверсию   \n",
      "2  Добавить блоки рекомендаций товаров на сайт интернет магазина, чтобы повысить конверсию и средний чек заказа   \n",
      "1                                     Запустить собственную службу доставки, что сократит срок доставки заказов   \n",
      "5                      Добавить страницу отзывов клиентов о магазине, что позволит увеличить количество заказов   \n",
      "3           Изменить структура категорий, что увеличит конверсию, т.к. пользователи быстрее найдут нужный товар   \n",
      "4                              Изменить цвет фона главной страницы, чтобы увеличить вовлеченность пользователей   \n",
      "\n",
      "         ICE  \n",
      "8  16.200000  \n",
      "0  13.333333  \n",
      "7  11.200000  \n",
      "6   8.000000  \n",
      "2   7.000000  \n",
      "1   2.000000  \n",
      "5   1.333333  \n",
      "3   1.125000  \n",
      "4   1.000000  \n"
     ]
    }
   ],
   "source": [
    "#Применю метод ICE для приоритизации гипотез. Отсортирую их по убыванию приоритета.\n",
    "hyp['ICE'] = (hyp.impact * hyp.confidence) / hyp.efforts\n",
    "\n",
    "print(hyp[['hypothesis', 'ICE']].sort_values('ICE', ascending = False))"
   ]
  },
  {
   "cell_type": "markdown",
   "metadata": {},
   "source": [
    "**Наиболее приоритетные гипотезы по методу ICE:**\n",
    "\n",
    "8 - Запустить акцию, дающую скидку на товар в день рождения   \n",
    "0 - Добавить два новых канала привлечения трафика, что позволит привлекать на 30% больше пользователей   \n",
    "7 - Добавить форму подписки на все основные страницы, чтобы собрать базу клиентов для email-рассылок "
   ]
  },
  {
   "cell_type": "code",
   "execution_count": 10,
   "metadata": {},
   "outputs": [
    {
     "name": "stdout",
     "output_type": "stream",
     "text": [
      "                                                                                                     hypothesis  \\\n",
      "7              Добавить форму подписки на все основные страницы, чтобы собрать базу клиентов для email-рассылок   \n",
      "2  Добавить блоки рекомендаций товаров на сайт интернет магазина, чтобы повысить конверсию и средний чек заказа   \n",
      "0            Добавить два новых канала привлечения трафика, что позволит привлекать на 30% больше пользователей   \n",
      "6          Показать на главной странице баннеры с актуальными акциями и распродажами, чтобы увеличить конверсию   \n",
      "8                                                       Запустить акцию, дающую скидку на товар в день рождения   \n",
      "3           Изменить структура категорий, что увеличит конверсию, т.к. пользователи быстрее найдут нужный товар   \n",
      "1                                     Запустить собственную службу доставки, что сократит срок доставки заказов   \n",
      "5                      Добавить страницу отзывов клиентов о магазине, что позволит увеличить количество заказов   \n",
      "4                              Изменить цвет фона главной страницы, чтобы увеличить вовлеченность пользователей   \n",
      "\n",
      "    RICE  \n",
      "7  112.0  \n",
      "2   56.0  \n",
      "0   40.0  \n",
      "6   40.0  \n",
      "8   16.2  \n",
      "3    9.0  \n",
      "1    4.0  \n",
      "5    4.0  \n",
      "4    3.0  \n"
     ]
    }
   ],
   "source": [
    "#Применю метод RICE для приоритизации гипотез. Отсортирую их по убыванию приоритета.\n",
    "hyp['RICE'] = (hyp.reach*hyp.impact * hyp.confidence) / hyp.efforts\n",
    "\n",
    "print(hyp[['hypothesis', 'RICE']].sort_values('RICE', ascending = False))"
   ]
  },
  {
   "cell_type": "code",
   "execution_count": 11,
   "metadata": {},
   "outputs": [
    {
     "data": {
      "text/html": [
       "<div>\n",
       "<style scoped>\n",
       "    .dataframe tbody tr th:only-of-type {\n",
       "        vertical-align: middle;\n",
       "    }\n",
       "\n",
       "    .dataframe tbody tr th {\n",
       "        vertical-align: top;\n",
       "    }\n",
       "\n",
       "    .dataframe thead th {\n",
       "        text-align: right;\n",
       "    }\n",
       "</style>\n",
       "<table border=\"1\" class=\"dataframe\">\n",
       "  <thead>\n",
       "    <tr style=\"text-align: right;\">\n",
       "      <th></th>\n",
       "      <th>hypothesis</th>\n",
       "      <th>ICE</th>\n",
       "      <th>RICE</th>\n",
       "    </tr>\n",
       "  </thead>\n",
       "  <tbody>\n",
       "    <tr>\n",
       "      <th>7</th>\n",
       "      <td>Добавить форму подписки на все основные страницы, чтобы собрать базу клиентов для email-рассылок</td>\n",
       "      <td>11.200000</td>\n",
       "      <td>112.0</td>\n",
       "    </tr>\n",
       "    <tr>\n",
       "      <th>2</th>\n",
       "      <td>Добавить блоки рекомендаций товаров на сайт интернет магазина, чтобы повысить конверсию и средний чек заказа</td>\n",
       "      <td>7.000000</td>\n",
       "      <td>56.0</td>\n",
       "    </tr>\n",
       "    <tr>\n",
       "      <th>0</th>\n",
       "      <td>Добавить два новых канала привлечения трафика, что позволит привлекать на 30% больше пользователей</td>\n",
       "      <td>13.333333</td>\n",
       "      <td>40.0</td>\n",
       "    </tr>\n",
       "    <tr>\n",
       "      <th>6</th>\n",
       "      <td>Показать на главной странице баннеры с актуальными акциями и распродажами, чтобы увеличить конверсию</td>\n",
       "      <td>8.000000</td>\n",
       "      <td>40.0</td>\n",
       "    </tr>\n",
       "    <tr>\n",
       "      <th>8</th>\n",
       "      <td>Запустить акцию, дающую скидку на товар в день рождения</td>\n",
       "      <td>16.200000</td>\n",
       "      <td>16.2</td>\n",
       "    </tr>\n",
       "    <tr>\n",
       "      <th>3</th>\n",
       "      <td>Изменить структура категорий, что увеличит конверсию, т.к. пользователи быстрее найдут нужный товар</td>\n",
       "      <td>1.125000</td>\n",
       "      <td>9.0</td>\n",
       "    </tr>\n",
       "    <tr>\n",
       "      <th>1</th>\n",
       "      <td>Запустить собственную службу доставки, что сократит срок доставки заказов</td>\n",
       "      <td>2.000000</td>\n",
       "      <td>4.0</td>\n",
       "    </tr>\n",
       "    <tr>\n",
       "      <th>5</th>\n",
       "      <td>Добавить страницу отзывов клиентов о магазине, что позволит увеличить количество заказов</td>\n",
       "      <td>1.333333</td>\n",
       "      <td>4.0</td>\n",
       "    </tr>\n",
       "    <tr>\n",
       "      <th>4</th>\n",
       "      <td>Изменить цвет фона главной страницы, чтобы увеличить вовлеченность пользователей</td>\n",
       "      <td>1.000000</td>\n",
       "      <td>3.0</td>\n",
       "    </tr>\n",
       "  </tbody>\n",
       "</table>\n",
       "</div>"
      ],
      "text/plain": [
       "                                                                                                     hypothesis  \\\n",
       "7              Добавить форму подписки на все основные страницы, чтобы собрать базу клиентов для email-рассылок   \n",
       "2  Добавить блоки рекомендаций товаров на сайт интернет магазина, чтобы повысить конверсию и средний чек заказа   \n",
       "0            Добавить два новых канала привлечения трафика, что позволит привлекать на 30% больше пользователей   \n",
       "6          Показать на главной странице баннеры с актуальными акциями и распродажами, чтобы увеличить конверсию   \n",
       "8                                                       Запустить акцию, дающую скидку на товар в день рождения   \n",
       "3           Изменить структура категорий, что увеличит конверсию, т.к. пользователи быстрее найдут нужный товар   \n",
       "1                                     Запустить собственную службу доставки, что сократит срок доставки заказов   \n",
       "5                      Добавить страницу отзывов клиентов о магазине, что позволит увеличить количество заказов   \n",
       "4                              Изменить цвет фона главной страницы, чтобы увеличить вовлеченность пользователей   \n",
       "\n",
       "         ICE   RICE  \n",
       "7  11.200000  112.0  \n",
       "2   7.000000   56.0  \n",
       "0  13.333333   40.0  \n",
       "6   8.000000   40.0  \n",
       "8  16.200000   16.2  \n",
       "3   1.125000    9.0  \n",
       "1   2.000000    4.0  \n",
       "5   1.333333    4.0  \n",
       "4   1.000000    3.0  "
      ]
     },
     "metadata": {},
     "output_type": "display_data"
    }
   ],
   "source": [
    "display(hyp[['hypothesis', 'ICE', 'RICE']].sort_values('RICE', ascending = False))"
   ]
  },
  {
   "cell_type": "markdown",
   "metadata": {},
   "source": [
    "**Наиболее приоритетные гипотезы по методу RICE:**\n",
    "\n",
    "7 - Добавить форму подписки на все основные страницы, чтобы собрать базу клиентов для email-рассылок\n",
    "2 - Добавить блоки рекомендаций товаров на сайт интернет магазина, чтобы повысить конверсию и средний чек заказа   \n",
    "0 - Добавить два новых канала привлечения трафика, что позволит привлекать на 30% больше пользователей   \n",
    "6 - Показать на главной странице баннеры с актуальными акциями и распродажами, чтобы увеличить конверсию "
   ]
  },
  {
   "cell_type": "markdown",
   "metadata": {},
   "source": [
    "### Выводы по разделу\n",
    "\n",
    "Приоритизация гипотез при применении RICE вместо ICE изменилась. Это произошло потому, что RICE учитывает охват аудитории, т.е. насколько большое количество пользователей затронут изменения. \n",
    "\n",
    "Добавление формы подписки на все основные страницы затрагивает всех пользователей, в то время как запуск акции, дающей скидку в день рождения имеет минимальный охват.\n",
    "\n",
    "Таким образом, при приоритизации гипотез лучше использовать метод RICE. И в первую очередь проверить гипотезу, что добавление формы подписки на все основные страницы, чтобы собрать базу клиентов для email-рассылок, позволит максимизировать ожидаемое улучшение ключевых метрик бизнеса."
   ]
  },
  {
   "cell_type": "markdown",
   "metadata": {},
   "source": [
    "## Часть 2. Анализ A/B-теста"
   ]
  },
  {
   "cell_type": "markdown",
   "metadata": {},
   "source": [
    "### Загрузка данных и подготовка их к анализу"
   ]
  },
  {
   "cell_type": "code",
   "execution_count": 12,
   "metadata": {},
   "outputs": [],
   "source": [
    "#сохраняем данные в переменные, разделитель запятая\n",
    "orders, visitors = (\n",
    "    pd.read_csv('/datasets/orders.csv',sep=','),\n",
    "    pd.read_csv('/datasets/visitors.csv',sep=',')\n",
    ")"
   ]
  },
  {
   "cell_type": "markdown",
   "metadata": {},
   "source": [
    "Изучим данные и выполним предобработку. "
   ]
  },
  {
   "cell_type": "code",
   "execution_count": 13,
   "metadata": {},
   "outputs": [
    {
     "name": "stdout",
     "output_type": "stream",
     "text": [
      "Первые 5 строк таблицы\n"
     ]
    },
    {
     "data": {
      "text/html": [
       "<div>\n",
       "<style scoped>\n",
       "    .dataframe tbody tr th:only-of-type {\n",
       "        vertical-align: middle;\n",
       "    }\n",
       "\n",
       "    .dataframe tbody tr th {\n",
       "        vertical-align: top;\n",
       "    }\n",
       "\n",
       "    .dataframe thead th {\n",
       "        text-align: right;\n",
       "    }\n",
       "</style>\n",
       "<table border=\"1\" class=\"dataframe\">\n",
       "  <thead>\n",
       "    <tr style=\"text-align: right;\">\n",
       "      <th></th>\n",
       "      <th>transactionId</th>\n",
       "      <th>visitorId</th>\n",
       "      <th>date</th>\n",
       "      <th>revenue</th>\n",
       "      <th>group</th>\n",
       "    </tr>\n",
       "  </thead>\n",
       "  <tbody>\n",
       "    <tr>\n",
       "      <th>0</th>\n",
       "      <td>3667963787</td>\n",
       "      <td>3312258926</td>\n",
       "      <td>2019-08-15</td>\n",
       "      <td>1650</td>\n",
       "      <td>B</td>\n",
       "    </tr>\n",
       "    <tr>\n",
       "      <th>1</th>\n",
       "      <td>2804400009</td>\n",
       "      <td>3642806036</td>\n",
       "      <td>2019-08-15</td>\n",
       "      <td>730</td>\n",
       "      <td>B</td>\n",
       "    </tr>\n",
       "    <tr>\n",
       "      <th>2</th>\n",
       "      <td>2961555356</td>\n",
       "      <td>4069496402</td>\n",
       "      <td>2019-08-15</td>\n",
       "      <td>400</td>\n",
       "      <td>A</td>\n",
       "    </tr>\n",
       "    <tr>\n",
       "      <th>3</th>\n",
       "      <td>3797467345</td>\n",
       "      <td>1196621759</td>\n",
       "      <td>2019-08-15</td>\n",
       "      <td>9759</td>\n",
       "      <td>B</td>\n",
       "    </tr>\n",
       "    <tr>\n",
       "      <th>4</th>\n",
       "      <td>2282983706</td>\n",
       "      <td>2322279887</td>\n",
       "      <td>2019-08-15</td>\n",
       "      <td>2308</td>\n",
       "      <td>B</td>\n",
       "    </tr>\n",
       "  </tbody>\n",
       "</table>\n",
       "</div>"
      ],
      "text/plain": [
       "   transactionId   visitorId        date  revenue group\n",
       "0     3667963787  3312258926  2019-08-15     1650     B\n",
       "1     2804400009  3642806036  2019-08-15      730     B\n",
       "2     2961555356  4069496402  2019-08-15      400     A\n",
       "3     3797467345  1196621759  2019-08-15     9759     B\n",
       "4     2282983706  2322279887  2019-08-15     2308     B"
      ]
     },
     "metadata": {},
     "output_type": "display_data"
    },
    {
     "name": "stdout",
     "output_type": "stream",
     "text": [
      "Общая информация о таблице\n",
      "<class 'pandas.core.frame.DataFrame'>\n",
      "RangeIndex: 1197 entries, 0 to 1196\n",
      "Data columns (total 5 columns):\n",
      " #   Column         Non-Null Count  Dtype \n",
      "---  ------         --------------  ----- \n",
      " 0   transactionId  1197 non-null   int64 \n",
      " 1   visitorId      1197 non-null   int64 \n",
      " 2   date           1197 non-null   object\n",
      " 3   revenue        1197 non-null   int64 \n",
      " 4   group          1197 non-null   object\n",
      "dtypes: int64(3), object(2)\n",
      "memory usage: 46.9+ KB\n"
     ]
    },
    {
     "data": {
      "text/plain": [
       "None"
      ]
     },
     "metadata": {},
     "output_type": "display_data"
    },
    {
     "name": "stdout",
     "output_type": "stream",
     "text": [
      "Информация о пропусках в таблице\n"
     ]
    },
    {
     "data": {
      "text/plain": [
       "transactionId    0\n",
       "visitorId        0\n",
       "date             0\n",
       "revenue          0\n",
       "group            0\n",
       "dtype: int64"
      ]
     },
     "metadata": {},
     "output_type": "display_data"
    }
   ],
   "source": [
    "#изучим таблицу с заказами\n",
    "base_info(orders)"
   ]
  },
  {
   "cell_type": "markdown",
   "metadata": {},
   "source": [
    "Пропуски в данных отсутствуют. Переименую колонки для соблюдения общего стиля."
   ]
  },
  {
   "cell_type": "code",
   "execution_count": 14,
   "metadata": {},
   "outputs": [],
   "source": [
    "orders = orders.rename(columns = {'transactionId' : 'order_id', 'visitorId' : 'visitor_id'});"
   ]
  },
  {
   "cell_type": "code",
   "execution_count": 15,
   "metadata": {},
   "outputs": [],
   "source": [
    "#перевод колонки с датой в формат даты\n",
    "orders['date'] = orders['date'].map(\n",
    "    lambda x: dt.datetime.strptime(x, '%Y-%m-%d'))"
   ]
  },
  {
   "cell_type": "code",
   "execution_count": 16,
   "metadata": {},
   "outputs": [
    {
     "name": "stdout",
     "output_type": "stream",
     "text": [
      "Первые 5 строк таблицы\n"
     ]
    },
    {
     "data": {
      "text/html": [
       "<div>\n",
       "<style scoped>\n",
       "    .dataframe tbody tr th:only-of-type {\n",
       "        vertical-align: middle;\n",
       "    }\n",
       "\n",
       "    .dataframe tbody tr th {\n",
       "        vertical-align: top;\n",
       "    }\n",
       "\n",
       "    .dataframe thead th {\n",
       "        text-align: right;\n",
       "    }\n",
       "</style>\n",
       "<table border=\"1\" class=\"dataframe\">\n",
       "  <thead>\n",
       "    <tr style=\"text-align: right;\">\n",
       "      <th></th>\n",
       "      <th>date</th>\n",
       "      <th>group</th>\n",
       "      <th>visitors</th>\n",
       "    </tr>\n",
       "  </thead>\n",
       "  <tbody>\n",
       "    <tr>\n",
       "      <th>0</th>\n",
       "      <td>2019-08-01</td>\n",
       "      <td>A</td>\n",
       "      <td>719</td>\n",
       "    </tr>\n",
       "    <tr>\n",
       "      <th>1</th>\n",
       "      <td>2019-08-02</td>\n",
       "      <td>A</td>\n",
       "      <td>619</td>\n",
       "    </tr>\n",
       "    <tr>\n",
       "      <th>2</th>\n",
       "      <td>2019-08-03</td>\n",
       "      <td>A</td>\n",
       "      <td>507</td>\n",
       "    </tr>\n",
       "    <tr>\n",
       "      <th>3</th>\n",
       "      <td>2019-08-04</td>\n",
       "      <td>A</td>\n",
       "      <td>717</td>\n",
       "    </tr>\n",
       "    <tr>\n",
       "      <th>4</th>\n",
       "      <td>2019-08-05</td>\n",
       "      <td>A</td>\n",
       "      <td>756</td>\n",
       "    </tr>\n",
       "  </tbody>\n",
       "</table>\n",
       "</div>"
      ],
      "text/plain": [
       "         date group  visitors\n",
       "0  2019-08-01     A       719\n",
       "1  2019-08-02     A       619\n",
       "2  2019-08-03     A       507\n",
       "3  2019-08-04     A       717\n",
       "4  2019-08-05     A       756"
      ]
     },
     "metadata": {},
     "output_type": "display_data"
    },
    {
     "name": "stdout",
     "output_type": "stream",
     "text": [
      "Общая информация о таблице\n",
      "<class 'pandas.core.frame.DataFrame'>\n",
      "RangeIndex: 62 entries, 0 to 61\n",
      "Data columns (total 3 columns):\n",
      " #   Column    Non-Null Count  Dtype \n",
      "---  ------    --------------  ----- \n",
      " 0   date      62 non-null     object\n",
      " 1   group     62 non-null     object\n",
      " 2   visitors  62 non-null     int64 \n",
      "dtypes: int64(1), object(2)\n",
      "memory usage: 1.6+ KB\n"
     ]
    },
    {
     "data": {
      "text/plain": [
       "None"
      ]
     },
     "metadata": {},
     "output_type": "display_data"
    },
    {
     "name": "stdout",
     "output_type": "stream",
     "text": [
      "Информация о пропусках в таблице\n"
     ]
    },
    {
     "data": {
      "text/plain": [
       "date        0\n",
       "group       0\n",
       "visitors    0\n",
       "dtype: int64"
      ]
     },
     "metadata": {},
     "output_type": "display_data"
    }
   ],
   "source": [
    "#изучим таблицу с посетителями\n",
    "base_info(visitors)"
   ]
  },
  {
   "cell_type": "markdown",
   "metadata": {},
   "source": [
    "Пропуски в данных отсутствуют. "
   ]
  },
  {
   "cell_type": "code",
   "execution_count": 17,
   "metadata": {},
   "outputs": [],
   "source": [
    "#перевод колонки с датой в формат даты\n",
    "visitors['date'] = visitors['date'].map(\n",
    "    lambda x: dt.datetime.strptime(x, '%Y-%m-%d'))"
   ]
  },
  {
   "cell_type": "code",
   "execution_count": 18,
   "metadata": {},
   "outputs": [
    {
     "name": "stdout",
     "output_type": "stream",
     "text": [
      "Количество дубликатов в таблице посетители  0\n",
      "Количество дубликатов в таблице заказы  0\n"
     ]
    }
   ],
   "source": [
    "#проверка на полные дубликаты строк\n",
    "print('Количество дубликатов в таблице посетители ', visitors.duplicated().sum())\n",
    "print('Количество дубликатов в таблице заказы ', orders.duplicated().sum())"
   ]
  },
  {
   "cell_type": "markdown",
   "metadata": {},
   "source": [
    "Проверю, все ли посетители попадают только в одну группу и находятся в ней до конца эксперимента."
   ]
  },
  {
   "cell_type": "code",
   "execution_count": 19,
   "metadata": {},
   "outputs": [
    {
     "name": "stdout",
     "output_type": "stream",
     "text": [
      "Количество пользователей, которые попали одновременно в две группы: 58\n"
     ]
    }
   ],
   "source": [
    "users_ab_dubl = (orders.groupby('visitor_id')\n",
    "     ['group'].nunique()\n",
    "     .reset_index()\n",
    "     .query('group>1')\n",
    "     ['visitor_id'])\n",
    "\n",
    "print (f'Количество пользователей, которые попали одновременно в две группы: {users_ab_dubl.count()}')"
   ]
  },
  {
   "cell_type": "markdown",
   "metadata": {},
   "source": [
    "По правилам A/B тестирования пользователи должны быть в своей группе весь эксперимент, чтобы результаты были чистыми, и мы точно могли определить, что влияет на их поведение. В данном случае, если бы задача была не учебная, то нужно разобраться, из-за чего возникла ошибка и исправить ее на будущее, а в текущем эксперименте, т.к. таких пользователей всего 58, то предлагаю считать их аномалией и исключить ниже в исследовании, когда будем очищать данные."
   ]
  },
  {
   "cell_type": "markdown",
   "metadata": {},
   "source": [
    "### Кумулятивные показатели по группам"
   ]
  },
  {
   "cell_type": "code",
   "execution_count": 20,
   "metadata": {},
   "outputs": [],
   "source": [
    "#создание таблицы с уникальными парами дата - группа\n",
    "date_group = orders[['date', 'group']].drop_duplicates()"
   ]
  },
  {
   "cell_type": "code",
   "execution_count": 21,
   "metadata": {},
   "outputs": [],
   "source": [
    "#агрегирую данные кумулятивно по заказам, визитам и выручке для каждой даты и группы\n",
    "orders_agg = date_group.apply(\n",
    "    lambda x: orders[\n",
    "        np.logical_and(\n",
    "            orders['date'] <= x['date'], orders['group'] == x['group']\n",
    "        )\n",
    "    ].agg(\n",
    "        {\n",
    "            'date': 'max',\n",
    "            'group': 'max',\n",
    "            'order_id': 'nunique',\n",
    "            'visitor_id': 'nunique',\n",
    "            'revenue': 'sum',\n",
    "        }\n",
    "    ),\n",
    "    axis=1,\n",
    ").sort_values(by=['date', 'group'])"
   ]
  },
  {
   "cell_type": "code",
   "execution_count": 22,
   "metadata": {},
   "outputs": [],
   "source": [
    "#рассчитываю посетителей накопительным итогом для каждой даты и группы\n",
    "visitors_agg = date_group.apply(\n",
    "    lambda x: visitors[\n",
    "        np.logical_and(\n",
    "            visitors['date'] <= x['date'], visitors['group'] == x['group']\n",
    "        )\n",
    "    ].agg(\n",
    "        {\n",
    "            'date': 'max',\n",
    "            'group': 'max',\n",
    "            'visitors': 'sum',\n",
    "        }\n",
    "    ),\n",
    "    axis=1,\n",
    ").sort_values(by=['date', 'group'])"
   ]
  },
  {
   "cell_type": "code",
   "execution_count": 23,
   "metadata": {},
   "outputs": [
    {
     "data": {
      "text/html": [
       "<div>\n",
       "<style scoped>\n",
       "    .dataframe tbody tr th:only-of-type {\n",
       "        vertical-align: middle;\n",
       "    }\n",
       "\n",
       "    .dataframe tbody tr th {\n",
       "        vertical-align: top;\n",
       "    }\n",
       "\n",
       "    .dataframe thead th {\n",
       "        text-align: right;\n",
       "    }\n",
       "</style>\n",
       "<table border=\"1\" class=\"dataframe\">\n",
       "  <thead>\n",
       "    <tr style=\"text-align: right;\">\n",
       "      <th></th>\n",
       "      <th>date</th>\n",
       "      <th>group</th>\n",
       "      <th>orders</th>\n",
       "      <th>buyers</th>\n",
       "      <th>revenue</th>\n",
       "      <th>visitors</th>\n",
       "    </tr>\n",
       "  </thead>\n",
       "  <tbody>\n",
       "    <tr>\n",
       "      <th>0</th>\n",
       "      <td>2019-08-01</td>\n",
       "      <td>A</td>\n",
       "      <td>24</td>\n",
       "      <td>20</td>\n",
       "      <td>148579</td>\n",
       "      <td>719</td>\n",
       "    </tr>\n",
       "    <tr>\n",
       "      <th>1</th>\n",
       "      <td>2019-08-01</td>\n",
       "      <td>B</td>\n",
       "      <td>21</td>\n",
       "      <td>20</td>\n",
       "      <td>101217</td>\n",
       "      <td>713</td>\n",
       "    </tr>\n",
       "    <tr>\n",
       "      <th>2</th>\n",
       "      <td>2019-08-02</td>\n",
       "      <td>A</td>\n",
       "      <td>44</td>\n",
       "      <td>38</td>\n",
       "      <td>242401</td>\n",
       "      <td>1338</td>\n",
       "    </tr>\n",
       "    <tr>\n",
       "      <th>3</th>\n",
       "      <td>2019-08-02</td>\n",
       "      <td>B</td>\n",
       "      <td>45</td>\n",
       "      <td>43</td>\n",
       "      <td>266748</td>\n",
       "      <td>1294</td>\n",
       "    </tr>\n",
       "    <tr>\n",
       "      <th>4</th>\n",
       "      <td>2019-08-03</td>\n",
       "      <td>A</td>\n",
       "      <td>68</td>\n",
       "      <td>62</td>\n",
       "      <td>354874</td>\n",
       "      <td>1845</td>\n",
       "    </tr>\n",
       "    <tr>\n",
       "      <th>...</th>\n",
       "      <td>...</td>\n",
       "      <td>...</td>\n",
       "      <td>...</td>\n",
       "      <td>...</td>\n",
       "      <td>...</td>\n",
       "      <td>...</td>\n",
       "    </tr>\n",
       "    <tr>\n",
       "      <th>57</th>\n",
       "      <td>2019-08-29</td>\n",
       "      <td>B</td>\n",
       "      <td>596</td>\n",
       "      <td>544</td>\n",
       "      <td>5559398</td>\n",
       "      <td>17708</td>\n",
       "    </tr>\n",
       "    <tr>\n",
       "      <th>58</th>\n",
       "      <td>2019-08-30</td>\n",
       "      <td>A</td>\n",
       "      <td>545</td>\n",
       "      <td>493</td>\n",
       "      <td>4022970</td>\n",
       "      <td>18037</td>\n",
       "    </tr>\n",
       "    <tr>\n",
       "      <th>59</th>\n",
       "      <td>2019-08-30</td>\n",
       "      <td>B</td>\n",
       "      <td>620</td>\n",
       "      <td>567</td>\n",
       "      <td>5774631</td>\n",
       "      <td>18198</td>\n",
       "    </tr>\n",
       "    <tr>\n",
       "      <th>60</th>\n",
       "      <td>2019-08-31</td>\n",
       "      <td>A</td>\n",
       "      <td>557</td>\n",
       "      <td>503</td>\n",
       "      <td>4084803</td>\n",
       "      <td>18736</td>\n",
       "    </tr>\n",
       "    <tr>\n",
       "      <th>61</th>\n",
       "      <td>2019-08-31</td>\n",
       "      <td>B</td>\n",
       "      <td>640</td>\n",
       "      <td>586</td>\n",
       "      <td>5907760</td>\n",
       "      <td>18916</td>\n",
       "    </tr>\n",
       "  </tbody>\n",
       "</table>\n",
       "<p>62 rows × 6 columns</p>\n",
       "</div>"
      ],
      "text/plain": [
       "         date group  orders  buyers  revenue  visitors\n",
       "0  2019-08-01     A      24      20   148579       719\n",
       "1  2019-08-01     B      21      20   101217       713\n",
       "2  2019-08-02     A      44      38   242401      1338\n",
       "3  2019-08-02     B      45      43   266748      1294\n",
       "4  2019-08-03     A      68      62   354874      1845\n",
       "..        ...   ...     ...     ...      ...       ...\n",
       "57 2019-08-29     B     596     544  5559398     17708\n",
       "58 2019-08-30     A     545     493  4022970     18037\n",
       "59 2019-08-30     B     620     567  5774631     18198\n",
       "60 2019-08-31     A     557     503  4084803     18736\n",
       "61 2019-08-31     B     640     586  5907760     18916\n",
       "\n",
       "[62 rows x 6 columns]"
      ]
     },
     "execution_count": 23,
     "metadata": {},
     "output_type": "execute_result"
    }
   ],
   "source": [
    "#соединяю кумулятивные данные по заказам, визитам и выручке с посетителями для каждой даты и группы\n",
    "cum_data = orders_agg.merge(visitors_agg, on=['date', 'group'])\n",
    "\n",
    "cum_data.columns = [\n",
    "    'date',\n",
    "    'group',\n",
    "    'orders',\n",
    "    'buyers',\n",
    "    'revenue',\n",
    "    'visitors',\n",
    "]\n",
    "cum_data"
   ]
  },
  {
   "cell_type": "code",
   "execution_count": 24,
   "metadata": {},
   "outputs": [
    {
     "data": {
      "text/html": [
       "<div>\n",
       "<style scoped>\n",
       "    .dataframe tbody tr th:only-of-type {\n",
       "        vertical-align: middle;\n",
       "    }\n",
       "\n",
       "    .dataframe tbody tr th {\n",
       "        vertical-align: top;\n",
       "    }\n",
       "\n",
       "    .dataframe thead th {\n",
       "        text-align: right;\n",
       "    }\n",
       "</style>\n",
       "<table border=\"1\" class=\"dataframe\">\n",
       "  <thead>\n",
       "    <tr style=\"text-align: right;\">\n",
       "      <th></th>\n",
       "      <th>date</th>\n",
       "      <th>groupA</th>\n",
       "      <th>ordersA</th>\n",
       "      <th>buyersA</th>\n",
       "      <th>revenueA</th>\n",
       "      <th>visitorsA</th>\n",
       "      <th>groupB</th>\n",
       "      <th>ordersB</th>\n",
       "      <th>buyersB</th>\n",
       "      <th>revenueB</th>\n",
       "      <th>visitorsB</th>\n",
       "    </tr>\n",
       "  </thead>\n",
       "  <tbody>\n",
       "    <tr>\n",
       "      <th>0</th>\n",
       "      <td>2019-08-01</td>\n",
       "      <td>A</td>\n",
       "      <td>24</td>\n",
       "      <td>20</td>\n",
       "      <td>148579</td>\n",
       "      <td>719</td>\n",
       "      <td>B</td>\n",
       "      <td>21</td>\n",
       "      <td>20</td>\n",
       "      <td>101217</td>\n",
       "      <td>713</td>\n",
       "    </tr>\n",
       "    <tr>\n",
       "      <th>1</th>\n",
       "      <td>2019-08-02</td>\n",
       "      <td>A</td>\n",
       "      <td>44</td>\n",
       "      <td>38</td>\n",
       "      <td>242401</td>\n",
       "      <td>1338</td>\n",
       "      <td>B</td>\n",
       "      <td>45</td>\n",
       "      <td>43</td>\n",
       "      <td>266748</td>\n",
       "      <td>1294</td>\n",
       "    </tr>\n",
       "    <tr>\n",
       "      <th>2</th>\n",
       "      <td>2019-08-03</td>\n",
       "      <td>A</td>\n",
       "      <td>68</td>\n",
       "      <td>62</td>\n",
       "      <td>354874</td>\n",
       "      <td>1845</td>\n",
       "      <td>B</td>\n",
       "      <td>61</td>\n",
       "      <td>59</td>\n",
       "      <td>380996</td>\n",
       "      <td>1803</td>\n",
       "    </tr>\n",
       "    <tr>\n",
       "      <th>3</th>\n",
       "      <td>2019-08-04</td>\n",
       "      <td>A</td>\n",
       "      <td>84</td>\n",
       "      <td>77</td>\n",
       "      <td>425699</td>\n",
       "      <td>2562</td>\n",
       "      <td>B</td>\n",
       "      <td>78</td>\n",
       "      <td>75</td>\n",
       "      <td>489567</td>\n",
       "      <td>2573</td>\n",
       "    </tr>\n",
       "    <tr>\n",
       "      <th>4</th>\n",
       "      <td>2019-08-05</td>\n",
       "      <td>A</td>\n",
       "      <td>109</td>\n",
       "      <td>100</td>\n",
       "      <td>549917</td>\n",
       "      <td>3318</td>\n",
       "      <td>B</td>\n",
       "      <td>101</td>\n",
       "      <td>98</td>\n",
       "      <td>581995</td>\n",
       "      <td>3280</td>\n",
       "    </tr>\n",
       "  </tbody>\n",
       "</table>\n",
       "</div>"
      ],
      "text/plain": [
       "        date groupA  ordersA  buyersA  revenueA  visitorsA groupB  ordersB  \\\n",
       "0 2019-08-01      A       24       20    148579        719      B       21   \n",
       "1 2019-08-02      A       44       38    242401       1338      B       45   \n",
       "2 2019-08-03      A       68       62    354874       1845      B       61   \n",
       "3 2019-08-04      A       84       77    425699       2562      B       78   \n",
       "4 2019-08-05      A      109      100    549917       3318      B      101   \n",
       "\n",
       "   buyersB  revenueB  visitorsB  \n",
       "0       20    101217        713  \n",
       "1       43    266748       1294  \n",
       "2       59    380996       1803  \n",
       "3       75    489567       2573  \n",
       "4       98    581995       3280  "
      ]
     },
     "execution_count": 24,
     "metadata": {},
     "output_type": "execute_result"
    }
   ],
   "source": [
    "#кумулятивные показатели по группам\n",
    "cum_data_a = cum_data.query('group==\"A\"')\n",
    "cum_data_b = cum_data.query('group==\"B\"')\n",
    "merged_cum_data = cum_data_a.merge(cum_data_b, on = 'date', how = 'left', suffixes = ['A', 'B'])\n",
    "merged_cum_data.head()"
   ]
  },
  {
   "cell_type": "markdown",
   "metadata": {},
   "source": [
    "#### График кумулятивной выручки по группам"
   ]
  },
  {
   "cell_type": "code",
   "execution_count": 25,
   "metadata": {},
   "outputs": [
    {
     "data": {
      "image/png": "[encoded data removed]",
      "text/plain": [
       "<Figure size 1080x360 with 1 Axes>"
      ]
     },
     "metadata": {
      "needs_background": "light"
     },
     "output_type": "display_data"
    }
   ],
   "source": [
    "fig, ax = plt.subplots(figsize=(15, 5))\n",
    "plt.plot(cum_data_a.date, cum_data_a.revenue, label = 'A')\n",
    "plt.plot(cum_data_b.date, cum_data_b.revenue, label = 'B')\n",
    "plt.legend()\n",
    "ax.grid(True)\n",
    "plt.xlabel('Даты')\n",
    "plt.ylabel('Выручка, млн.')\n",
    "plt.title('График кумулятивной выручки по группам')\n",
    "\n",
    "#добавляем значения по оси х и формат подписи\n",
    "ax.set_xticks(cum_data_a.date.dt.date)\n",
    "ax.set_xticklabels(cum_data_a.date.dt.date,rotation=45 );"
   ]
  },
  {
   "cell_type": "markdown",
   "metadata": {},
   "source": [
    "**Выводы и предположения по графику:**\n",
    "\n",
    "В середине теста сегмент B вырвался вперед и продолжил лидировать весь остаток теста. Возможно, дело в аномально большом заказе, который повлиял на результат."
   ]
  },
  {
   "cell_type": "markdown",
   "metadata": {},
   "source": [
    "#### График кумулятивного среднего чека по группам"
   ]
  },
  {
   "cell_type": "code",
   "execution_count": 26,
   "metadata": {},
   "outputs": [
    {
     "data": {
      "image/png": "[encoded data removed]",
      "text/plain": [
       "<Figure size 1080x360 with 1 Axes>"
      ]
     },
     "metadata": {
      "needs_background": "light"
     },
     "output_type": "display_data"
    }
   ],
   "source": [
    "fig, ax = plt.subplots(figsize=(15, 5))\n",
    "plt.plot(cum_data_a.date, cum_data_a.revenue/cum_data_a.orders, label = 'A')\n",
    "plt.plot(cum_data_b.date, cum_data_b.revenue/cum_data_b.orders, label = 'B')\n",
    "plt.legend()\n",
    "ax.grid(True)\n",
    "plt.xlabel('Даты')\n",
    "plt.ylabel('Средний чек')\n",
    "plt.title('График кумулятивного среднего чека по группам')\n",
    "\n",
    "#добавляем значения по оси х и формат подписи\n",
    "ax.set_xticks(cum_data_a.date.dt.date)\n",
    "ax.set_xticklabels(cum_data_a.date.dt.date,rotation=45 );"
   ]
  },
  {
   "cell_type": "markdown",
   "metadata": {},
   "source": [
    "**Выводы и предположения по графику:**\n",
    "\n",
    "- В начале тестирования лидировала групп B, средний чек повышался волнообразно вплоть до 18 дня теста, в который произошел резкий скачок (скорее всего аномально дорогая покупка). После этого наблюдаем плавное снижение, стабизизации в данной группе еще не произошло.\n",
    "- У группы A первые 5 дней средний чек падал, затем начал заметный рост вплоть до 13 дня теста, в промежуток 11-14 дни теста он даже превысил чек группы B, однако затем немного снизился и стабилизировался на уровне существенно ниже среднего чека группы A."
   ]
  },
  {
   "cell_type": "markdown",
   "metadata": {},
   "source": [
    "<div class=\"alert alert-info\">\n",
    "\n",
    "\n",
    "</div>"
   ]
  },
  {
   "cell_type": "markdown",
   "metadata": {},
   "source": [
    "#### График относительного изменения кумулятивного среднего чека группы B к группе A"
   ]
  },
  {
   "cell_type": "code",
   "execution_count": 27,
   "metadata": {},
   "outputs": [
    {
     "data": {
      "image/png": "[encoded data removed]",
      "text/plain": [
       "<Figure size 1080x360 with 1 Axes>"
      ]
     },
     "metadata": {
      "needs_background": "light"
     },
     "output_type": "display_data"
    }
   ],
   "source": [
    "fig, ax = plt.subplots(figsize=(15, 5))\n",
    "\n",
    "plt.plot(merged_cum_data.date, (\n",
    "    (merged_cum_data.revenueB/merged_cum_data.ordersB) /\n",
    "    (merged_cum_data.revenueA/merged_cum_data.ordersA)-1)\n",
    "        )\n",
    "\n",
    "plt.axhline(y=0, color='black', linestyle='--')\n",
    "\n",
    "ax.grid(True)\n",
    "plt.xlabel('Даты')\n",
    "plt.ylabel('Доля')\n",
    "plt.title('График относительного изменения кумулятивного среднего чека группы B к группе A')\n",
    "\n",
    "ax.set_xticks(merged_cum_data.date.dt.date)\n",
    "ax.set_xticklabels(merged_cum_data.date.dt.date,rotation=45 );"
   ]
  },
  {
   "cell_type": "markdown",
   "metadata": {},
   "source": [
    "**Выводы и предположения по графику:**\n",
    "\n",
    "Результаты теста значительно менялись несколько раз. Колебания продолжаются, говорить о стабилизации еще рано."
   ]
  },
  {
   "cell_type": "markdown",
   "metadata": {},
   "source": [
    "#### График кумулятивного среднего количества заказов на посетителя по группам"
   ]
  },
  {
   "cell_type": "code",
   "execution_count": 28,
   "metadata": {},
   "outputs": [
    {
     "data": {
      "image/png": "[encoded data removed]",
      "text/plain": [
       "<Figure size 1080x360 with 1 Axes>"
      ]
     },
     "metadata": {
      "needs_background": "light"
     },
     "output_type": "display_data"
    }
   ],
   "source": [
    "fig, ax = plt.subplots(figsize=(15, 5))\n",
    "plt.plot(cum_data_a.date, cum_data_a.orders/cum_data_a.visitors, label = 'A')\n",
    "plt.plot(cum_data_b.date, cum_data_b.orders/cum_data_b.visitors, label = 'B')\n",
    "\n",
    "plt.legend()\n",
    "ax.grid(True)\n",
    "plt.xlabel('Даты')\n",
    "plt.ylabel('Количество заказов на посетителя')\n",
    "plt.title('График кумулятивного среднего количества заказов на посетителя по группам')\n",
    "plt.axis([cum_data_a.date.min(), cum_data_a.date.max(),0, 0.05])\n",
    "ax.set_xticks(cum_data_a.date.dt.date)\n",
    "ax.set_xticklabels(cum_data_a.date.dt.date,rotation=45 );"
   ]
  },
  {
   "cell_type": "markdown",
   "metadata": {},
   "source": [
    "**Выводы и предположения по графику:**\n",
    "\n",
    "В начале теста наблюдались колебания среднего количества заказов на посетителя, но затем они стабилизировались и выровнялись приблизительно у одного значения, среднее количества заказов на посетителя сегмента B больше, чем у сегмента A."
   ]
  },
  {
   "cell_type": "markdown",
   "metadata": {},
   "source": [
    "#### График относительного изменения кумулятивного среднего количества заказов на посетителя  группы B к группе A"
   ]
  },
  {
   "cell_type": "code",
   "execution_count": 29,
   "metadata": {},
   "outputs": [
    {
     "data": {
      "image/png": "[encoded data removed]",
      "text/plain": [
       "<Figure size 1080x360 with 1 Axes>"
      ]
     },
     "metadata": {
      "needs_background": "light"
     },
     "output_type": "display_data"
    }
   ],
   "source": [
    "fig, ax = plt.subplots(figsize=(15, 5))\n",
    "\n",
    "plt.plot(merged_cum_data.date, (\n",
    "    (merged_cum_data.ordersB/merged_cum_data.visitorsB) /\n",
    "    (merged_cum_data.ordersA/merged_cum_data.visitorsA)-1)\n",
    "        )\n",
    "\n",
    "plt.axhline(y=0, color='black', linestyle='--')\n",
    "plt.axhline(y=0.1, color='grey', linestyle='--')\n",
    "\n",
    "ax.grid(True)\n",
    "plt.xlabel('Даты')\n",
    "plt.ylabel('Доля')\n",
    "plt.title('График относительного изменения кумулятивного среднего количества заказов на посетителя группы B к группе A')\n",
    "\n",
    "ax.set_xticks(merged_cum_data.date.dt.date)\n",
    "ax.set_xticklabels(merged_cum_data.date.dt.date,rotation=45 );"
   ]
  },
  {
   "cell_type": "markdown",
   "metadata": {},
   "source": [
    "**Выводы и предположения по графику:**\n",
    "\n",
    "Среднее количество заказов на посетителя группы B колеблется относительно группы A, но при этом виден прирост более 10%."
   ]
  },
  {
   "cell_type": "markdown",
   "metadata": {},
   "source": [
    "### Количество заказов по пользователям"
   ]
  },
  {
   "cell_type": "code",
   "execution_count": 30,
   "metadata": {},
   "outputs": [
    {
     "data": {
      "text/html": [
       "<div>\n",
       "<style scoped>\n",
       "    .dataframe tbody tr th:only-of-type {\n",
       "        vertical-align: middle;\n",
       "    }\n",
       "\n",
       "    .dataframe tbody tr th {\n",
       "        vertical-align: top;\n",
       "    }\n",
       "\n",
       "    .dataframe thead th {\n",
       "        text-align: right;\n",
       "    }\n",
       "</style>\n",
       "<table border=\"1\" class=\"dataframe\">\n",
       "  <thead>\n",
       "    <tr style=\"text-align: right;\">\n",
       "      <th></th>\n",
       "      <th>visitor_id</th>\n",
       "      <th>orders</th>\n",
       "    </tr>\n",
       "  </thead>\n",
       "  <tbody>\n",
       "    <tr>\n",
       "      <th>1023</th>\n",
       "      <td>4256040402</td>\n",
       "      <td>11</td>\n",
       "    </tr>\n",
       "    <tr>\n",
       "      <th>591</th>\n",
       "      <td>2458001652</td>\n",
       "      <td>11</td>\n",
       "    </tr>\n",
       "    <tr>\n",
       "      <th>569</th>\n",
       "      <td>2378935119</td>\n",
       "      <td>9</td>\n",
       "    </tr>\n",
       "    <tr>\n",
       "      <th>487</th>\n",
       "      <td>2038680547</td>\n",
       "      <td>8</td>\n",
       "    </tr>\n",
       "    <tr>\n",
       "      <th>44</th>\n",
       "      <td>199603092</td>\n",
       "      <td>5</td>\n",
       "    </tr>\n",
       "    <tr>\n",
       "      <th>744</th>\n",
       "      <td>3062433592</td>\n",
       "      <td>5</td>\n",
       "    </tr>\n",
       "    <tr>\n",
       "      <th>55</th>\n",
       "      <td>237748145</td>\n",
       "      <td>5</td>\n",
       "    </tr>\n",
       "    <tr>\n",
       "      <th>917</th>\n",
       "      <td>3803269165</td>\n",
       "      <td>5</td>\n",
       "    </tr>\n",
       "    <tr>\n",
       "      <th>299</th>\n",
       "      <td>1230306981</td>\n",
       "      <td>5</td>\n",
       "    </tr>\n",
       "    <tr>\n",
       "      <th>897</th>\n",
       "      <td>3717692402</td>\n",
       "      <td>5</td>\n",
       "    </tr>\n",
       "  </tbody>\n",
       "</table>\n",
       "</div>"
      ],
      "text/plain": [
       "      visitor_id  orders\n",
       "1023  4256040402      11\n",
       "591   2458001652      11\n",
       "569   2378935119       9\n",
       "487   2038680547       8\n",
       "44     199603092       5\n",
       "744   3062433592       5\n",
       "55     237748145       5\n",
       "917   3803269165       5\n",
       "299   1230306981       5\n",
       "897   3717692402       5"
      ]
     },
     "execution_count": 30,
     "metadata": {},
     "output_type": "execute_result"
    }
   ],
   "source": [
    "orders_by_users = orders.groupby('visitor_id', as_index=False).agg(\n",
    "    {'order_id':'nunique'}).sort_values(by='order_id', ascending = False)\n",
    "\n",
    "orders_by_users.columns = ['visitor_id', 'orders']\n",
    "\n",
    "orders_by_users.head(10)"
   ]
  },
  {
   "cell_type": "markdown",
   "metadata": {},
   "source": [
    "#### Точечный график количества заказов по пользователям"
   ]
  },
  {
   "cell_type": "code",
   "execution_count": 31,
   "metadata": {},
   "outputs": [
    {
     "data": {
      "image/png": "[encoded data removed]",
      "text/plain": [
       "<Figure size 720x432 with 1 Axes>"
      ]
     },
     "metadata": {
      "needs_background": "light"
     },
     "output_type": "display_data"
    }
   ],
   "source": [
    "fig, ax = plt.subplots(figsize=(10, 6))\n",
    "\n",
    "# серия из чисел от 0 до количества наблюдений в orders_by_users\n",
    "x_values = pd.Series(range(0, len(orders_by_users)))\n",
    "\n",
    "plt.scatter(x_values, orders_by_users.orders)\n",
    "\n",
    "plt.xlabel('Номера наблюдений')\n",
    "plt.ylabel('Количество заказов')\n",
    "plt.title('Точечный график количества заказов по пользователям');"
   ]
  },
  {
   "cell_type": "markdown",
   "metadata": {},
   "source": [
    "**Выводы и предположения по графику:**\n",
    "\n",
    "В основном пользователи делают по одному заказу, небольшое количество - по 2 заказа. Большее количество заказов скорее всего - аномалия.\n",
    "\n",
    "Определим это, рассчитав перцентили."
   ]
  },
  {
   "cell_type": "markdown",
   "metadata": {},
   "source": [
    "#### Расчет 95-й и 99-й перцентиля количества заказов на пользователя. Выбор границы для определения аномальных пользователей."
   ]
  },
  {
   "cell_type": "code",
   "execution_count": 32,
   "metadata": {},
   "outputs": [
    {
     "name": "stdout",
     "output_type": "stream",
     "text": [
      "[2. 4.]\n"
     ]
    }
   ],
   "source": [
    "print (np.percentile(orders_by_users.orders, [95,99]))"
   ]
  },
  {
   "cell_type": "markdown",
   "metadata": {},
   "source": [
    "Не более 5% пользователей совершают 2 заказа и более, не более 1% пользователей совершает 4 и более заказов.\n",
    "\n",
    "**Границей для определения аномальных пользователей выберу более двух заказов, отсеяв таким образов 5% значений.**"
   ]
  },
  {
   "cell_type": "markdown",
   "metadata": {},
   "source": [
    "### Стоимость заказов"
   ]
  },
  {
   "cell_type": "markdown",
   "metadata": {},
   "source": [
    "#### Точечный график стоимостей заказов"
   ]
  },
  {
   "cell_type": "code",
   "execution_count": 33,
   "metadata": {},
   "outputs": [
    {
     "data": {
      "image/png": "[encoded data removed]",
      "text/plain": [
       "<Figure size 720x432 with 1 Axes>"
      ]
     },
     "metadata": {
      "needs_background": "light"
     },
     "output_type": "display_data"
    }
   ],
   "source": [
    "fig, ax = plt.subplots(figsize=(10, 6))\n",
    "\n",
    "# серия из чисел от 0 до количества наблюдений\n",
    "x_values = pd.Series(range(0, len(orders.revenue)))\n",
    "\n",
    "plt.scatter(x_values, orders.revenue)\n",
    "\n",
    "ax.grid(True)\n",
    "plt.xlabel('Номера наблюдений')\n",
    "plt.ylabel('Стоимость заказов')\n",
    "plt.title('Точечный график стоимости заказов');"
   ]
  },
  {
   "cell_type": "markdown",
   "metadata": {},
   "source": [
    "Сделала график без выбросов ниже"
   ]
  },
  {
   "cell_type": "code",
   "execution_count": 34,
   "metadata": {},
   "outputs": [
    {
     "data": {
      "image/png": "[encoded data removed]",
      "text/plain": [
       "<Figure size 720x432 with 1 Axes>"
      ]
     },
     "metadata": {
      "needs_background": "light"
     },
     "output_type": "display_data"
    }
   ],
   "source": [
    "fig, ax = plt.subplots(figsize=(10, 6))\n",
    "\n",
    "# серия из чисел от 0 до количества наблюдений\n",
    "x_values = pd.Series(range(0, len(orders.revenue)))\n",
    "\n",
    "plt.scatter(x_values, orders.revenue)\n",
    "\n",
    "ax.grid(True)\n",
    "plt.xlabel('Номера наблюдений')\n",
    "plt.ylabel('Стоимость заказов')\n",
    "plt.ylim(0,120000)\n",
    "plt.title('Точечный график стоимости заказов (без выбросов)');"
   ]
  },
  {
   "cell_type": "markdown",
   "metadata": {},
   "source": [
    "**Выводы и предположения по графику:**\n",
    "\n",
    "В основном стоимость одного заказа до 50 тыс., большая стоимость заказов скорее всего - аномалия.\n",
    "\n",
    "Определим это, рассчитав перцентили."
   ]
  },
  {
   "cell_type": "markdown",
   "metadata": {},
   "source": [
    "#### Расчет 95-й и 99-й перцентиля стоимости заказов. Выбор границы для определения аномальных заказов."
   ]
  },
  {
   "cell_type": "code",
   "execution_count": 35,
   "metadata": {},
   "outputs": [
    {
     "name": "stdout",
     "output_type": "stream",
     "text": [
      "[28000.  58233.2]\n"
     ]
    }
   ],
   "source": [
    "print (np.percentile(orders.revenue, [95,99]))"
   ]
  },
  {
   "cell_type": "markdown",
   "metadata": {},
   "source": [
    "Не более 5% заказов составляет 28000, не более 1% заказов дороже 58233.\n",
    "\n",
    "**Границей для определения аномальных заказов выберу 30000, отсеяв таким образов от 1 до 5%  аномальных значений.**"
   ]
  },
  {
   "cell_type": "markdown",
   "metadata": {},
   "source": [
    "### Определение аномальных пользователей"
   ]
  },
  {
   "cell_type": "markdown",
   "metadata": {},
   "source": [
    "Определю список аномальных пользователей (более 2 заказов или заказ дороже 30000 или пользователь одновременно в двух группах)"
   ]
  },
  {
   "cell_type": "code",
   "execution_count": 36,
   "metadata": {},
   "outputs": [
    {
     "name": "stdout",
     "output_type": "stream",
     "text": [
      "2         8300375\n",
      "1099    148427295\n",
      "44      199603092\n",
      "928     204675465\n",
      "51      232979603\n",
      "Name: visitor_id, dtype: int64\n",
      "----------\n",
      "Количество аномальных пользователей 107\n"
     ]
    }
   ],
   "source": [
    "users_with_many_orders = orders_by_users.query('orders >2')['visitor_id']\n",
    "\n",
    "users_with_expensive_orders = orders.query('revenue > 30000')['visitor_id']\n",
    "\n",
    "#id аномальных пользователей\n",
    "abnormal_users = (\n",
    "    pd.concat([users_with_many_orders, users_with_expensive_orders, users_ab_dubl], axis=0)\n",
    "    .drop_duplicates()\n",
    "    .sort_values()\n",
    ")\n",
    "\n",
    "print(abnormal_users.head(5))\n",
    "print('----------')\n",
    "print(f'Количество аномальных пользователей {abnormal_users.count()}')"
   ]
  },
  {
   "cell_type": "markdown",
   "metadata": {},
   "source": [
    "### Статистическая значимость различий в среднем количестве заказов на посетителя между группами по «сырым» данным"
   ]
  },
  {
   "cell_type": "code",
   "execution_count": 37,
   "metadata": {},
   "outputs": [],
   "source": [
    "#расчет количества заказов на посетителя по группам\n",
    "orders_by_users_a = orders.query('group==\"A\"').groupby(\n",
    "    'visitor_id', as_index = False).agg({'order_id' : 'nunique'})\n",
    "orders_by_users_a.columns = ['visitor_id', 'orders']\n",
    "\n",
    "orders_by_users_b = orders.query('group==\"B\"').groupby(\n",
    "    'visitor_id', as_index = False).agg({'order_id' : 'nunique'})\n",
    "orders_by_users_b.columns = ['visitor_id', 'orders']"
   ]
  },
  {
   "cell_type": "code",
   "execution_count": 38,
   "metadata": {},
   "outputs": [],
   "source": [
    "#расчет количества посетителей по датам по группам\n",
    "visitors_a_daily = visitors.query('group==\"A\"')[['date', 'visitors']]\n",
    "visitors_a_daily.columns = ['date', 'visitors_per_date_a']\n",
    "\n",
    "visitors_b_daily = visitors.query('group==\"B\"')[['date', 'visitors']]\n",
    "visitors_b_daily.columns = ['date', 'visitors_per_date_b']"
   ]
  },
  {
   "cell_type": "code",
   "execution_count": 39,
   "metadata": {},
   "outputs": [],
   "source": [
    "#расчет количества заказов и выручки по датам по группам\n",
    "orders_a_daily = (\n",
    "    orders.query('group==\"A\"')[['date', 'order_id', 'visitor_id', 'revenue']]\n",
    "    .groupby('date', as_index=False)\n",
    "    .agg({'order_id': 'nunique', 'revenue': 'sum'})\n",
    ")\n",
    "orders_a_daily.columns = ['date', 'orders_per_date_a', 'revenue_per_date_a']\n",
    "\n",
    "\n",
    "orders_b_daily = (\n",
    "    orders.query('group==\"B\"')[['date', 'order_id', 'visitor_id', 'revenue']]\n",
    "    .groupby('date', as_index=False)\n",
    "    .agg({'order_id': 'nunique', 'revenue': 'sum'})\n",
    ")\n",
    "orders_b_daily.columns = ['date', 'orders_per_date_b', 'revenue_per_date_b']"
   ]
  },
  {
   "cell_type": "code",
   "execution_count": 40,
   "metadata": {},
   "outputs": [
    {
     "data": {
      "text/html": [
       "<div>\n",
       "<style scoped>\n",
       "    .dataframe tbody tr th:only-of-type {\n",
       "        vertical-align: middle;\n",
       "    }\n",
       "\n",
       "    .dataframe tbody tr th {\n",
       "        vertical-align: top;\n",
       "    }\n",
       "\n",
       "    .dataframe thead th {\n",
       "        text-align: right;\n",
       "    }\n",
       "</style>\n",
       "<table border=\"1\" class=\"dataframe\">\n",
       "  <thead>\n",
       "    <tr style=\"text-align: right;\">\n",
       "      <th></th>\n",
       "      <th>date</th>\n",
       "      <th>orders_per_date_a</th>\n",
       "      <th>revenue_per_date_a</th>\n",
       "      <th>orders_per_date_b</th>\n",
       "      <th>revenue_per_date_b</th>\n",
       "      <th>visitors_per_date_a</th>\n",
       "      <th>visitors_per_date_b</th>\n",
       "    </tr>\n",
       "  </thead>\n",
       "  <tbody>\n",
       "    <tr>\n",
       "      <th>27</th>\n",
       "      <td>2019-08-28</td>\n",
       "      <td>17</td>\n",
       "      <td>101122</td>\n",
       "      <td>28</td>\n",
       "      <td>96008</td>\n",
       "      <td>594</td>\n",
       "      <td>654</td>\n",
       "    </tr>\n",
       "    <tr>\n",
       "      <th>24</th>\n",
       "      <td>2019-08-25</td>\n",
       "      <td>10</td>\n",
       "      <td>68634</td>\n",
       "      <td>14</td>\n",
       "      <td>102862</td>\n",
       "      <td>621</td>\n",
       "      <td>679</td>\n",
       "    </tr>\n",
       "    <tr>\n",
       "      <th>26</th>\n",
       "      <td>2019-08-27</td>\n",
       "      <td>28</td>\n",
       "      <td>286780</td>\n",
       "      <td>16</td>\n",
       "      <td>147677</td>\n",
       "      <td>711</td>\n",
       "      <td>720</td>\n",
       "    </tr>\n",
       "    <tr>\n",
       "      <th>11</th>\n",
       "      <td>2019-08-12</td>\n",
       "      <td>24</td>\n",
       "      <td>249190</td>\n",
       "      <td>23</td>\n",
       "      <td>141554</td>\n",
       "      <td>595</td>\n",
       "      <td>543</td>\n",
       "    </tr>\n",
       "    <tr>\n",
       "      <th>28</th>\n",
       "      <td>2019-08-29</td>\n",
       "      <td>22</td>\n",
       "      <td>320690</td>\n",
       "      <td>20</td>\n",
       "      <td>231130</td>\n",
       "      <td>577</td>\n",
       "      <td>531</td>\n",
       "    </tr>\n",
       "  </tbody>\n",
       "</table>\n",
       "</div>"
      ],
      "text/plain": [
       "         date  orders_per_date_a  revenue_per_date_a  orders_per_date_b  \\\n",
       "27 2019-08-28                 17              101122                 28   \n",
       "24 2019-08-25                 10               68634                 14   \n",
       "26 2019-08-27                 28              286780                 16   \n",
       "11 2019-08-12                 24              249190                 23   \n",
       "28 2019-08-29                 22              320690                 20   \n",
       "\n",
       "    revenue_per_date_b  visitors_per_date_a  visitors_per_date_b  \n",
       "27               96008                  594                  654  \n",
       "24              102862                  621                  679  \n",
       "26              147677                  711                  720  \n",
       "11              141554                  595                  543  \n",
       "28              231130                  577                  531  "
      ]
     },
     "execution_count": 40,
     "metadata": {},
     "output_type": "execute_result"
    }
   ],
   "source": [
    "#таблица заказов, выручки, посетителей по дням в разрезе групп\n",
    "data = (\n",
    "    orders_a_daily.merge(\n",
    "        orders_b_daily, left_on='date', right_on='date', how='left'\n",
    "    )\n",
    "        .merge(visitors_a_daily, left_on='date', right_on='date', how='left')\n",
    "    .merge(visitors_b_daily, left_on='date', right_on='date', how='left')\n",
    ")\n",
    "\n",
    "data.sample(5)"
   ]
  },
  {
   "cell_type": "code",
   "execution_count": 41,
   "metadata": {},
   "outputs": [],
   "source": [
    "# Объявляю переменные, в которых пользователям с заказами будет соответствовать число заказов пользователя\n",
    "# пользователям без заказов — нули\n",
    "\n",
    "sample_a = pd.concat(\n",
    "[orders_by_users_a.orders, \n",
    "pd.Series(\n",
    "    0, index = np.arange(data.visitors_per_date_a.sum() - len(orders_by_users_a.orders)), name='orders'\n",
    ")], axis = 0)\n",
    "\n",
    "sample_b = pd.concat(\n",
    "[orders_by_users_b.orders, \n",
    "pd.Series(\n",
    "    0, index = np.arange(data.visitors_per_date_b.sum() - len(orders_by_users_b.orders)), name='orders'\n",
    ")], axis = 0)"
   ]
  },
  {
   "cell_type": "markdown",
   "metadata": {},
   "source": [
    "Сформулирую гипотезы\n",
    "\n",
    "H_0: Среднее количество заказов группы A = Среднему количеству заказов группы B\n",
    "\n",
    "H_a: Среднее количество заказов группы A ≠ Среднему количеству заказов группы B\n",
    "\n",
    "alpha = 0.05"
   ]
  },
  {
   "cell_type": "code",
   "execution_count": 42,
   "metadata": {},
   "outputs": [
    {
     "name": "stdout",
     "output_type": "stream",
     "text": [
      "p-value 0.01679\n",
      "Отвергаем нулевую гипотезу\n",
      "Относительное различие в среднем между группами 0.138\n"
     ]
    }
   ],
   "source": [
    "#посчитаю статистическую значимость различия среднего количества заказов. Применю тест Манна-Уитни\n",
    "\n",
    "alpha=0.05\n",
    "results = st.mannwhitneyu(sample_a, sample_b)[1]\n",
    "\n",
    "print(\"p-value {0:.5f}\".format(results))\n",
    "\n",
    "if (results < alpha):\n",
    "    print(\"Отвергаем нулевую гипотезу\")\n",
    "else:\n",
    "    print(\"Не можем отвергнуть нулевую гипотезу\") \n",
    "    \n",
    "#выведу относительный прирост среднего числа заказов группы B\n",
    "print(\"Относительное различие в среднем между группами {0:.3f}\".format(\n",
    "    sample_b.mean()/sample_a.mean() - 1\n",
    ")\n",
    "     )"
   ]
  },
  {
   "cell_type": "markdown",
   "metadata": {},
   "source": [
    "**Выводы и предположения:**\n",
    "\n",
    "По «сырым» данным различия в среднем числе заказов групп A и B есть. \n",
    "\n",
    "Среднее количество заказов группы B на 13,8% больше, чем у группы A.\n",
    "\n",
    "p-value 1,68%, что меньше выбранного нами уровня значимости в 5%. \n",
    "    \n",
    "Это значит, что вероятность получить такую же (13,8%) или меньшую разницу между средними количествами заказов групп составляет всего 1,68%.\n",
    "Т.о. средние количества заказов в группах отличаются и это отличие существенное и не случайное, поэтому нулевая гипотеза отвергается"
   ]
  },
  {
   "cell_type": "markdown",
   "metadata": {},
   "source": [
    "### Статистическая значимость различий в среднем чеке заказа между группами по «сырым» данным"
   ]
  },
  {
   "cell_type": "markdown",
   "metadata": {},
   "source": [
    "Сформулирую гипотезы\n",
    "\n",
    "H_0: Средний чек группы A = Среднему чеку группы B\n",
    "\n",
    "H_a: Средний чек группы A ≠ Среднему чеку группы B\n",
    "\n",
    "alpha = 0.05"
   ]
  },
  {
   "cell_type": "code",
   "execution_count": 43,
   "metadata": {},
   "outputs": [
    {
     "name": "stdout",
     "output_type": "stream",
     "text": [
      "p-value 0.72929\n",
      "Не можем отвергнуть нулевую гипотезу\n",
      "Относительное различие в среднем между группами 0.259\n"
     ]
    }
   ],
   "source": [
    "alpha=0.05\n",
    "results = st.mannwhitneyu(\n",
    "    orders.query('group==\"A\"')['revenue'],\n",
    "    orders.query('group==\"B\"')['revenue']\n",
    "    )[1]\n",
    "\n",
    "print(\"p-value {0:.5f}\".format(results))\n",
    "\n",
    "if (results < alpha):\n",
    "    print(\"Отвергаем нулевую гипотезу\")\n",
    "else:\n",
    "    print(\"Не можем отвергнуть нулевую гипотезу\") \n",
    "    \n",
    "#выведу относительный прирост среднего чека группы B\n",
    "print(\"Относительное различие в среднем между группами {0:.3f}\".format(\n",
    "    orders.query('group==\"B\"')['revenue'].mean()\n",
    "    /orders.query('group==\"A\"')['revenue'].mean()\n",
    "    -1\n",
    ")\n",
    "     )"
   ]
  },
  {
   "cell_type": "markdown",
   "metadata": {},
   "source": [
    "**Выводы и предположения:**\n",
    "\n",
    "По «сырым» данным различий в среднем чеке групп A и B нет, а наблюдаемое превышение среднего чека группы В на 25,9% не является значимым, получено случайно."
   ]
  },
  {
   "cell_type": "markdown",
   "metadata": {},
   "source": [
    "### Статистическая значимость различий в среднем количестве заказов на посетителя между группами по «очищенным» данным"
   ]
  },
  {
   "cell_type": "code",
   "execution_count": 44,
   "metadata": {},
   "outputs": [],
   "source": [
    "# Объявляю переменные, в которых пользователям с заказами без аномалий будет соответствовать число заказов пользователя\n",
    "# пользователям без заказов — нули\n",
    "\n",
    "sample_a_filtered = pd.concat(\n",
    "    [\n",
    "        orders_by_users_a[\n",
    "            np.logical_not(orders_by_users_a['visitor_id'].isin(abnormal_users))\n",
    "        ]['orders'],\n",
    "        pd.Series(\n",
    "            0,\n",
    "            index=np.arange(\n",
    "                data.visitors_per_date_a.sum() - len(orders_by_users_a.orders)\n",
    "            ),\n",
    "            name='orders')\n",
    "    ], axis=0)\n",
    "\n",
    "sample_b_filtered = pd.concat(\n",
    "    [\n",
    "        orders_by_users_b[\n",
    "            np.logical_not(orders_by_users_b['visitor_id'].isin(abnormal_users))\n",
    "        ]['orders'],\n",
    "        pd.Series(\n",
    "            0,\n",
    "            index=np.arange(\n",
    "                data.visitors_per_date_b.sum() - len(orders_by_users_b.orders)\n",
    "            ),\n",
    "            name='orders')\n",
    "    ], axis=0)"
   ]
  },
  {
   "cell_type": "markdown",
   "metadata": {},
   "source": [
    "Сформулирую гипотезы\n",
    "\n",
    "H_0: Среднее количество заказов группы A  по \"очищенным\" данным = Среднему количеству заказов группы B по \"очищенным\" данным\n",
    "\n",
    "H_a: Среднее количество заказов группы A по \"очищенным\" данным ≠ Среднему количеству заказов группы B по \"очищенным\" данным\n",
    "\n",
    "alpha = 0.05"
   ]
  },
  {
   "cell_type": "code",
   "execution_count": 45,
   "metadata": {},
   "outputs": [
    {
     "name": "stdout",
     "output_type": "stream",
     "text": [
      "p-value 0.00972\n",
      "Отвергаем нулевую гипотезу\n",
      "Относительное различие в среднем между группами по 'очищенным' данным 0.187\n"
     ]
    }
   ],
   "source": [
    "#посчитаю статистическую значимость различия среднего количества заказов. Применю тест Манна-Уитни\n",
    "\n",
    "alpha=0.05\n",
    "results = st.mannwhitneyu(sample_a_filtered, sample_b_filtered)[1]\n",
    "\n",
    "print(\"p-value {0:.5f}\".format(results))\n",
    "\n",
    "if (results < alpha):\n",
    "    print(\"Отвергаем нулевую гипотезу\")\n",
    "else:\n",
    "    print(\"Не можем отвергнуть нулевую гипотезу\") \n",
    "    \n",
    "#выведу относительный прирост среднего числа заказов группы B\n",
    "print(\"Относительное различие в среднем между группами по 'очищенным' данным {0:.3f}\".format(\n",
    "    sample_b_filtered.mean()/sample_a_filtered.mean() - 1\n",
    ")\n",
    "     )"
   ]
  },
  {
   "cell_type": "markdown",
   "metadata": {},
   "source": [
    "**Выводы и предположения:**\n",
    "\n",
    "По «очищенным» данным различия в среднем числе заказов групп A и B есть. \n",
    "\n",
    "Среднее количество заказов группы B на 18,7% больше, чем у группы A. Т.е после очистки данных разница между сегментами увеличилась еще сильнее, p-value уменьшился."
   ]
  },
  {
   "cell_type": "markdown",
   "metadata": {},
   "source": [
    "### Статистическая значимость различий в среднем чеке заказа между группами по «очищенным» данным"
   ]
  },
  {
   "cell_type": "markdown",
   "metadata": {},
   "source": [
    "Сформулирую гипотезы\n",
    "\n",
    "H_0: Средний чек группы A по \"очищенным\" данным = Среднему чеку группы B по \"очищенным\" данным \n",
    "\n",
    "H_a: Средний чек группы A по \"очищенным\" данным ≠ Среднему чеку группы B по \"очищенным\" данным \n",
    "\n",
    "alpha = 0.05"
   ]
  },
  {
   "cell_type": "code",
   "execution_count": 46,
   "metadata": {},
   "outputs": [
    {
     "name": "stdout",
     "output_type": "stream",
     "text": [
      "p-value 0.74088\n",
      "Не можем отвергнуть нулевую гипотезу\n",
      "Относительное различие в среднем между группами -0.027\n"
     ]
    }
   ],
   "source": [
    "alpha=0.05\n",
    "\n",
    "revenue_a_filtered = orders[np.logical_and(\n",
    "    orders['group'] == 'A',\n",
    "    np.logical_not(orders['visitor_id'].isin(abnormal_users))\n",
    "    )]['revenue']\n",
    "    \n",
    "revenue_b_filtered = orders[np.logical_and(\n",
    "    orders['group'] == 'B',\n",
    "    np.logical_not(orders['visitor_id'].isin(abnormal_users))\n",
    "    )]['revenue']\n",
    "\n",
    "results = st.mannwhitneyu(revenue_a_filtered, revenue_b_filtered)[1]\n",
    "\n",
    "print(\"p-value {0:.5f}\".format(results))\n",
    "\n",
    "if (results < alpha):\n",
    "    print(\"Отвергаем нулевую гипотезу\")\n",
    "else:\n",
    "    print(\"Не можем отвергнуть нулевую гипотезу\") \n",
    "    \n",
    "#выведу относительный прирост среднего чека группы B\n",
    "print(\"Относительное различие в среднем между группами {0:.3f}\".format(\n",
    "    revenue_b_filtered.mean() / revenue_a_filtered.mean() -1\n",
    ")\n",
    "     )"
   ]
  },
  {
   "cell_type": "markdown",
   "metadata": {},
   "source": [
    "**Выводы и предположения:**\n",
    "\n",
    "По «очищенным» данным различий в среднем чеке групп A и B нет. \n",
    "\n",
    "P-value немного увеличился. Средний чек группы B на 2,7% ниже среднего чека группы A.\n",
    "Хотя общие выводы по результатам теста не изменились, хорошо видно, как сильно аномалии могут влиять на результаты A/B-теста, ведь до очистки данных средний чек группы B был на 26% выше среднего чека группы A."
   ]
  },
  {
   "cell_type": "markdown",
   "metadata": {},
   "source": [
    "### Графики по \"очищенным\" данным"
   ]
  },
  {
   "cell_type": "markdown",
   "metadata": {},
   "source": [
    "Построю графики относительного изменения среднего чека и количества заказов по очищенным данным"
   ]
  },
  {
   "cell_type": "code",
   "execution_count": 47,
   "metadata": {},
   "outputs": [
    {
     "name": "stderr",
     "output_type": "stream",
     "text": [
      "/tmp/ipykernel_86/1788005579.py:3: UserWarning: Boolean Series key will be reindexed to match DataFrame index.\n",
      "  lambda x: orders[np.logical_not(orders['visitor_id'].isin(abnormal_users))]\n"
     ]
    }
   ],
   "source": [
    "#агрегирую очищенные данные кумулятивно по заказам, визитам и выручке для каждой даты и группы\n",
    "orders_filt = date_group.apply(\n",
    "    lambda x: orders[np.logical_not(orders['visitor_id'].isin(abnormal_users))]\n",
    "    [np.logical_and(\n",
    "            orders['date'] <= x['date'], orders['group'] == x['group'] \n",
    "        )\n",
    "    ].agg(\n",
    "        {\n",
    "            'date': 'max',\n",
    "            'group': 'max',\n",
    "            'order_id': 'nunique',\n",
    "            'visitor_id': 'nunique',\n",
    "            'revenue': 'sum',\n",
    "        }\n",
    "    ),\n",
    "    axis=1,\n",
    ").sort_values(by=['date', 'group'])"
   ]
  },
  {
   "cell_type": "code",
   "execution_count": 48,
   "metadata": {},
   "outputs": [],
   "source": [
    "#соединяю очищенные кумулятивные данные по заказам, визитам и выручке с посетителями для каждой даты и группы\n",
    "cum_data_filt = orders_filt.merge(visitors_agg, on=['date', 'group'])\n",
    "\n",
    "cum_data_filt.columns = [\n",
    "    'date',\n",
    "    'group',\n",
    "    'orders',\n",
    "    'buyers',\n",
    "    'revenue',\n",
    "    'visitors',\n",
    "]"
   ]
  },
  {
   "cell_type": "code",
   "execution_count": 49,
   "metadata": {},
   "outputs": [],
   "source": [
    "#кумулятивные очищенные показатели по группам\n",
    "cum_data_a_f = cum_data_filt.query('group==\"A\"')\n",
    "cum_data_b_f = cum_data_filt.query('group==\"B\"')\n",
    "merged_cum_data_f = cum_data_a_f.merge(cum_data_b_f, on = 'date', how = 'left', suffixes = ['A', 'B'])"
   ]
  },
  {
   "cell_type": "code",
   "execution_count": 50,
   "metadata": {},
   "outputs": [
    {
     "data": {
      "image/png": "[encoded data removed]",
      "text/plain": [
       "<Figure size 1080x360 with 1 Axes>"
      ]
     },
     "metadata": {
      "needs_background": "light"
     },
     "output_type": "display_data"
    }
   ],
   "source": [
    "fig, ax = plt.subplots(figsize=(15, 5))\n",
    "\n",
    "plt.plot(merged_cum_data.date, (\n",
    "    (merged_cum_data_f.revenueB/merged_cum_data.ordersB) /\n",
    "    (merged_cum_data_f.revenueA/merged_cum_data.ordersA)-1)\n",
    "        )\n",
    "\n",
    "plt.axhline(y=0, color='black', linestyle='--')\n",
    "\n",
    "ax.grid(True)\n",
    "plt.xlabel('Даты')\n",
    "plt.ylabel('Доля')\n",
    "plt.title(\n",
    "    '''График относительного изменения кумулятивного среднего чека \n",
    "    группы B к группе A по очищенным данным''')\n",
    "\n",
    "ax.set_xticks(merged_cum_data_f.date.dt.date)\n",
    "ax.set_xticklabels(merged_cum_data_f.date.dt.date,rotation=45 );"
   ]
  },
  {
   "cell_type": "code",
   "execution_count": 51,
   "metadata": {},
   "outputs": [
    {
     "data": {
      "image/png": "[encoded data removed]",
      "text/plain": [
       "<Figure size 1080x360 with 1 Axes>"
      ]
     },
     "metadata": {
      "needs_background": "light"
     },
     "output_type": "display_data"
    }
   ],
   "source": [
    "fig, ax = plt.subplots(figsize=(15, 5))\n",
    "\n",
    "plt.plot(merged_cum_data_f.date, (\n",
    "    (merged_cum_data_f.ordersB/merged_cum_data_f.visitorsB) /\n",
    "    (merged_cum_data_f.ordersA/merged_cum_data_f.visitorsA)-1)\n",
    "        )\n",
    "\n",
    "plt.axhline(y=0, color='black', linestyle='--')\n",
    "plt.axhline(y=0.1, color='grey', linestyle='--')\n",
    "\n",
    "ax.grid(True)\n",
    "plt.xlabel('Даты')\n",
    "plt.ylabel('Доля')\n",
    "plt.title(\n",
    "    '''График относительного изменения кумулятивного среднего количества заказов на посетителя \n",
    "    группы B к группе A по очищенным данным''')\n",
    "\n",
    "ax.set_xticks(merged_cum_data.date.dt.date)\n",
    "ax.set_xticklabels(merged_cum_data.date.dt.date,rotation=45 );"
   ]
  },
  {
   "cell_type": "markdown",
   "metadata": {},
   "source": [
    "### Выводы по разделу\n",
    "\n",
    "- Есть статистически значимое различие по среднему количеству заказов между группами и по «сырым», и по данным после фильтрации аномалий;\n",
    "- Нет статистически значимого различия по среднему чеку между группами ни по «сырым», ни по данным после фильтрации аномалий;\n",
    "- График различия количества заказов между группами сообщает, что результаты группы B лучше группы A и есть тенденция к дальнейшему улучшению\n",
    "- График различия среднего чека говорит о том, что результаты группы B нестабильны, колеблются на уровне результатов группы A\n",
    "\n",
    "**Исходя из обнаруженных фактов, тест следует остановить и признать успеешным, зафиксировать победу группы B. Увеличение количества заказов при практически неизменном среднем чеке считаю положительным результатом**"
   ]
  },
  {
   "cell_type": "code",
   "execution_count": null,
   "metadata": {},
   "outputs": [],
   "source": []
  }
 ],
 "metadata": {
  "ExecuteTimeLog": [
   {
    "duration": 1114,
    "start_time": "2022-12-30T14:06:06.661Z"
   },
   {
    "duration": 91,
    "start_time": "2022-12-30T14:06:36.645Z"
   },
   {
    "duration": 8,
    "start_time": "2022-12-30T14:07:02.714Z"
   },
   {
    "duration": 3,
    "start_time": "2022-12-30T14:07:17.934Z"
   },
   {
    "duration": 3,
    "start_time": "2022-12-30T14:07:27.609Z"
   },
   {
    "duration": 2,
    "start_time": "2022-12-30T14:07:29.658Z"
   },
   {
    "duration": 16,
    "start_time": "2022-12-30T14:09:10.404Z"
   },
   {
    "duration": 3,
    "start_time": "2022-12-30T14:09:43.801Z"
   },
   {
    "duration": 65,
    "start_time": "2022-12-30T14:10:08.841Z"
   },
   {
    "duration": 11,
    "start_time": "2022-12-30T14:10:17.651Z"
   },
   {
    "duration": 8,
    "start_time": "2022-12-30T14:18:16.291Z"
   },
   {
    "duration": 26,
    "start_time": "2022-12-30T14:18:18.935Z"
   },
   {
    "duration": 8,
    "start_time": "2022-12-30T14:18:19.808Z"
   },
   {
    "duration": 3,
    "start_time": "2022-12-30T14:19:47.069Z"
   },
   {
    "duration": 4,
    "start_time": "2022-12-30T14:19:55.948Z"
   },
   {
    "duration": 2,
    "start_time": "2022-12-30T14:20:43.107Z"
   },
   {
    "duration": 4,
    "start_time": "2022-12-30T14:20:48.094Z"
   },
   {
    "duration": 11,
    "start_time": "2022-12-30T14:22:18.757Z"
   },
   {
    "duration": 7,
    "start_time": "2022-12-30T14:22:24.533Z"
   },
   {
    "duration": 9,
    "start_time": "2022-12-30T14:23:16.182Z"
   },
   {
    "duration": 2,
    "start_time": "2022-12-30T15:29:49.763Z"
   },
   {
    "duration": 56,
    "start_time": "2022-12-30T15:33:59.869Z"
   },
   {
    "duration": 7,
    "start_time": "2022-12-30T15:34:04.544Z"
   },
   {
    "duration": 117,
    "start_time": "2022-12-30T15:34:17.598Z"
   },
   {
    "duration": 50,
    "start_time": "2022-12-30T15:34:31.556Z"
   },
   {
    "duration": 112,
    "start_time": "2022-12-30T15:37:45.197Z"
   },
   {
    "duration": 3,
    "start_time": "2022-12-30T15:40:55.196Z"
   },
   {
    "duration": 21,
    "start_time": "2022-12-30T15:41:18.281Z"
   },
   {
    "duration": 8,
    "start_time": "2022-12-30T15:42:15.009Z"
   },
   {
    "duration": 18,
    "start_time": "2022-12-30T15:42:47.862Z"
   },
   {
    "duration": 3,
    "start_time": "2022-12-30T15:54:34.201Z"
   },
   {
    "duration": 13,
    "start_time": "2022-12-30T15:59:17.807Z"
   },
   {
    "duration": 4,
    "start_time": "2022-12-30T16:00:10.424Z"
   },
   {
    "duration": 50,
    "start_time": "2022-12-30T16:03:31.890Z"
   },
   {
    "duration": 189,
    "start_time": "2022-12-30T16:03:49.673Z"
   },
   {
    "duration": 3,
    "start_time": "2022-12-30T16:04:20.652Z"
   },
   {
    "duration": 262,
    "start_time": "2022-12-30T16:04:26.453Z"
   },
   {
    "duration": 11,
    "start_time": "2022-12-30T16:05:51.246Z"
   },
   {
    "duration": 4,
    "start_time": "2022-12-30T16:06:10.176Z"
   },
   {
    "duration": 7,
    "start_time": "2022-12-30T16:08:22.105Z"
   },
   {
    "duration": 6,
    "start_time": "2022-12-30T16:18:55.039Z"
   },
   {
    "duration": 10,
    "start_time": "2022-12-30T16:18:59.363Z"
   },
   {
    "duration": 26,
    "start_time": "2022-12-30T16:22:08.702Z"
   },
   {
    "duration": 13,
    "start_time": "2022-12-30T16:22:49.538Z"
   },
   {
    "duration": 3,
    "start_time": "2022-12-30T16:23:07.563Z"
   },
   {
    "duration": 14,
    "start_time": "2022-12-30T16:23:12.734Z"
   },
   {
    "duration": 6,
    "start_time": "2022-12-30T16:23:18.905Z"
   },
   {
    "duration": 171,
    "start_time": "2022-12-30T16:23:20.248Z"
   },
   {
    "duration": 7,
    "start_time": "2022-12-30T16:25:12.740Z"
   },
   {
    "duration": 149,
    "start_time": "2022-12-30T16:29:03.446Z"
   },
   {
    "duration": 135,
    "start_time": "2022-12-30T16:29:35.070Z"
   },
   {
    "duration": 124,
    "start_time": "2022-12-30T16:29:42.327Z"
   },
   {
    "duration": 2,
    "start_time": "2022-12-30T16:30:10.085Z"
   },
   {
    "duration": 15,
    "start_time": "2022-12-30T16:31:57.266Z"
   },
   {
    "duration": 130,
    "start_time": "2022-12-30T16:37:20.214Z"
   },
   {
    "duration": 114,
    "start_time": "2022-12-30T16:39:05.563Z"
   },
   {
    "duration": 14,
    "start_time": "2022-12-30T16:39:11.640Z"
   },
   {
    "duration": 15,
    "start_time": "2022-12-30T16:39:51.691Z"
   },
   {
    "duration": 239,
    "start_time": "2022-12-30T16:43:27.744Z"
   },
   {
    "duration": 186,
    "start_time": "2022-12-30T16:43:32.737Z"
   },
   {
    "duration": 196,
    "start_time": "2022-12-30T16:43:51.427Z"
   },
   {
    "duration": 185,
    "start_time": "2022-12-30T16:44:49.912Z"
   },
   {
    "duration": 186,
    "start_time": "2022-12-30T16:45:10.042Z"
   },
   {
    "duration": 191,
    "start_time": "2022-12-30T16:45:16.713Z"
   },
   {
    "duration": 250,
    "start_time": "2022-12-30T16:45:33.810Z"
   },
   {
    "duration": 217,
    "start_time": "2022-12-30T16:45:42.829Z"
   },
   {
    "duration": 278,
    "start_time": "2022-12-30T16:45:47.785Z"
   },
   {
    "duration": 202,
    "start_time": "2022-12-30T16:47:10.375Z"
   },
   {
    "duration": 201,
    "start_time": "2022-12-30T16:47:59.192Z"
   },
   {
    "duration": 201,
    "start_time": "2022-12-30T16:48:21.113Z"
   },
   {
    "duration": 202,
    "start_time": "2022-12-30T16:49:02.164Z"
   },
   {
    "duration": 206,
    "start_time": "2022-12-30T16:49:29.007Z"
   },
   {
    "duration": 8,
    "start_time": "2022-12-30T16:55:24.757Z"
   },
   {
    "duration": 316,
    "start_time": "2022-12-30T16:56:37.841Z"
   },
   {
    "duration": 206,
    "start_time": "2022-12-30T16:57:52.381Z"
   },
   {
    "duration": 231,
    "start_time": "2022-12-30T16:58:23.118Z"
   },
   {
    "duration": 10,
    "start_time": "2022-12-30T16:58:40.919Z"
   },
   {
    "duration": 10,
    "start_time": "2022-12-30T16:59:00.026Z"
   },
   {
    "duration": 14,
    "start_time": "2022-12-30T17:03:09.014Z"
   },
   {
    "duration": 11,
    "start_time": "2022-12-30T17:03:31.754Z"
   },
   {
    "duration": 14,
    "start_time": "2022-12-30T17:03:55.537Z"
   },
   {
    "duration": 11,
    "start_time": "2022-12-30T17:04:02.247Z"
   },
   {
    "duration": 276,
    "start_time": "2022-12-30T17:04:41.824Z"
   },
   {
    "duration": 7,
    "start_time": "2022-12-30T17:04:52.633Z"
   },
   {
    "duration": 210,
    "start_time": "2022-12-30T17:06:30.767Z"
   },
   {
    "duration": 1373,
    "start_time": "2022-12-30T17:07:16.702Z"
   },
   {
    "duration": 3,
    "start_time": "2022-12-30T17:07:18.077Z"
   },
   {
    "duration": 36,
    "start_time": "2022-12-30T17:07:18.082Z"
   },
   {
    "duration": 24,
    "start_time": "2022-12-30T17:07:18.120Z"
   },
   {
    "duration": 37,
    "start_time": "2022-12-30T17:07:18.146Z"
   },
   {
    "duration": 40,
    "start_time": "2022-12-30T17:07:18.185Z"
   },
   {
    "duration": 15,
    "start_time": "2022-12-30T17:07:18.226Z"
   },
   {
    "duration": 32,
    "start_time": "2022-12-30T17:07:18.243Z"
   },
   {
    "duration": 13,
    "start_time": "2022-12-30T17:07:18.277Z"
   },
   {
    "duration": 14,
    "start_time": "2022-12-30T17:07:18.291Z"
   },
   {
    "duration": 63,
    "start_time": "2022-12-30T17:07:18.306Z"
   },
   {
    "duration": 27,
    "start_time": "2022-12-30T17:07:18.370Z"
   },
   {
    "duration": 4,
    "start_time": "2022-12-30T17:07:18.399Z"
   },
   {
    "duration": 25,
    "start_time": "2022-12-30T17:07:18.406Z"
   },
   {
    "duration": 32,
    "start_time": "2022-12-30T17:07:18.433Z"
   },
   {
    "duration": 4,
    "start_time": "2022-12-30T17:07:18.467Z"
   },
   {
    "duration": 31,
    "start_time": "2022-12-30T17:07:18.473Z"
   },
   {
    "duration": 7,
    "start_time": "2022-12-30T17:07:18.506Z"
   },
   {
    "duration": 286,
    "start_time": "2022-12-30T17:07:18.515Z"
   },
   {
    "duration": 152,
    "start_time": "2022-12-30T17:07:18.803Z"
   },
   {
    "duration": 19,
    "start_time": "2022-12-30T17:07:18.957Z"
   },
   {
    "duration": 12,
    "start_time": "2022-12-30T17:07:18.979Z"
   },
   {
    "duration": 389,
    "start_time": "2022-12-30T17:07:18.993Z"
   },
   {
    "duration": 3,
    "start_time": "2022-12-30T17:07:19.383Z"
   },
   {
    "duration": 8,
    "start_time": "2022-12-30T17:07:19.389Z"
   },
   {
    "duration": 313,
    "start_time": "2022-12-30T17:07:43.308Z"
   },
   {
    "duration": 1158,
    "start_time": "2022-12-30T17:07:47.991Z"
   },
   {
    "duration": 3,
    "start_time": "2022-12-30T17:07:49.151Z"
   },
   {
    "duration": 15,
    "start_time": "2022-12-30T17:07:49.156Z"
   },
   {
    "duration": 4,
    "start_time": "2022-12-30T17:07:49.174Z"
   },
   {
    "duration": 7,
    "start_time": "2022-12-30T17:07:49.180Z"
   },
   {
    "duration": 32,
    "start_time": "2022-12-30T17:07:49.189Z"
   },
   {
    "duration": 11,
    "start_time": "2022-12-30T17:07:49.223Z"
   },
   {
    "duration": 6,
    "start_time": "2022-12-30T17:07:49.235Z"
   },
   {
    "duration": 11,
    "start_time": "2022-12-30T17:07:49.242Z"
   },
   {
    "duration": 9,
    "start_time": "2022-12-30T17:07:49.256Z"
   },
   {
    "duration": 63,
    "start_time": "2022-12-30T17:07:49.267Z"
   },
   {
    "duration": 22,
    "start_time": "2022-12-30T17:07:49.331Z"
   },
   {
    "duration": 4,
    "start_time": "2022-12-30T17:07:49.355Z"
   },
   {
    "duration": 22,
    "start_time": "2022-12-30T17:07:49.361Z"
   },
   {
    "duration": 47,
    "start_time": "2022-12-30T17:07:49.385Z"
   },
   {
    "duration": 4,
    "start_time": "2022-12-30T17:07:49.434Z"
   },
   {
    "duration": 11,
    "start_time": "2022-12-30T17:07:49.440Z"
   },
   {
    "duration": 8,
    "start_time": "2022-12-30T17:07:49.454Z"
   },
   {
    "duration": 205,
    "start_time": "2022-12-30T17:07:49.464Z"
   },
   {
    "duration": 120,
    "start_time": "2022-12-30T17:07:49.670Z"
   },
   {
    "duration": 30,
    "start_time": "2022-12-30T17:07:49.792Z"
   },
   {
    "duration": 8,
    "start_time": "2022-12-30T17:07:49.823Z"
   },
   {
    "duration": 323,
    "start_time": "2022-12-30T17:07:49.834Z"
   },
   {
    "duration": 3,
    "start_time": "2022-12-30T17:07:50.159Z"
   },
   {
    "duration": 8,
    "start_time": "2022-12-30T17:07:50.164Z"
   },
   {
    "duration": 303,
    "start_time": "2022-12-30T17:08:10.275Z"
   },
   {
    "duration": 1051,
    "start_time": "2022-12-30T21:35:47.994Z"
   },
   {
    "duration": 6,
    "start_time": "2022-12-30T21:36:36.181Z"
   },
   {
    "duration": 6,
    "start_time": "2022-12-30T21:40:14.897Z"
   },
   {
    "duration": 7,
    "start_time": "2022-12-30T21:43:59.943Z"
   },
   {
    "duration": 6,
    "start_time": "2022-12-30T21:55:06.133Z"
   },
   {
    "duration": 12,
    "start_time": "2022-12-30T21:56:45.476Z"
   },
   {
    "duration": 12,
    "start_time": "2022-12-30T21:58:46.458Z"
   },
   {
    "duration": 9,
    "start_time": "2022-12-30T21:58:56.438Z"
   },
   {
    "duration": 15,
    "start_time": "2022-12-30T21:59:11.492Z"
   },
   {
    "duration": 9,
    "start_time": "2022-12-30T21:59:50.467Z"
   },
   {
    "duration": 8,
    "start_time": "2022-12-30T22:00:04.773Z"
   },
   {
    "duration": 49,
    "start_time": "2022-12-30T22:04:53.311Z"
   },
   {
    "duration": 49,
    "start_time": "2022-12-30T22:05:35.965Z"
   },
   {
    "duration": 51,
    "start_time": "2022-12-30T22:06:47.500Z"
   },
   {
    "duration": 57,
    "start_time": "2022-12-30T22:06:56.976Z"
   },
   {
    "duration": 73,
    "start_time": "2022-12-30T22:07:00.072Z"
   },
   {
    "duration": 49,
    "start_time": "2022-12-30T22:07:51.904Z"
   },
   {
    "duration": 7,
    "start_time": "2022-12-30T22:08:06.335Z"
   },
   {
    "duration": 12,
    "start_time": "2022-12-30T22:08:21.118Z"
   },
   {
    "duration": 8,
    "start_time": "2022-12-30T22:08:28.075Z"
   },
   {
    "duration": 8,
    "start_time": "2022-12-30T22:08:50.166Z"
   },
   {
    "duration": 8,
    "start_time": "2022-12-30T22:08:57.136Z"
   },
   {
    "duration": 347,
    "start_time": "2022-12-30T22:24:01.274Z"
   },
   {
    "duration": 298,
    "start_time": "2022-12-30T22:24:57.216Z"
   },
   {
    "duration": 301,
    "start_time": "2022-12-30T22:25:03.995Z"
   },
   {
    "duration": 288,
    "start_time": "2022-12-30T22:25:15.652Z"
   },
   {
    "duration": 45,
    "start_time": "2022-12-30T22:31:59.147Z"
   },
   {
    "duration": 8,
    "start_time": "2022-12-30T22:33:33.734Z"
   },
   {
    "duration": 59,
    "start_time": "2022-12-30T22:33:45.211Z"
   },
   {
    "duration": 8,
    "start_time": "2022-12-30T22:33:49.349Z"
   },
   {
    "duration": 42,
    "start_time": "2022-12-30T22:33:56.858Z"
   },
   {
    "duration": 425,
    "start_time": "2022-12-30T22:34:23.119Z"
   },
   {
    "duration": 416,
    "start_time": "2022-12-30T22:35:28.733Z"
   },
   {
    "duration": 454,
    "start_time": "2022-12-30T22:35:55.984Z"
   },
   {
    "duration": 9,
    "start_time": "2022-12-30T22:36:15.482Z"
   },
   {
    "duration": 6,
    "start_time": "2022-12-30T22:45:36.978Z"
   },
   {
    "duration": 9,
    "start_time": "2022-12-30T22:45:53.637Z"
   },
   {
    "duration": 308,
    "start_time": "2022-12-30T22:46:07.884Z"
   },
   {
    "duration": 4,
    "start_time": "2022-12-30T22:49:11.890Z"
   },
   {
    "duration": 282,
    "start_time": "2022-12-30T22:49:14.708Z"
   },
   {
    "duration": 240,
    "start_time": "2022-12-30T22:49:54.206Z"
   },
   {
    "duration": 280,
    "start_time": "2022-12-30T22:50:52.286Z"
   },
   {
    "duration": 193,
    "start_time": "2022-12-30T22:51:10.442Z"
   },
   {
    "duration": 235,
    "start_time": "2022-12-30T22:51:15.149Z"
   },
   {
    "duration": 289,
    "start_time": "2022-12-30T22:51:34.820Z"
   },
   {
    "duration": 2,
    "start_time": "2022-12-30T22:52:21.387Z"
   },
   {
    "duration": 304,
    "start_time": "2022-12-30T22:53:03.703Z"
   },
   {
    "duration": 303,
    "start_time": "2022-12-30T22:53:08.120Z"
   },
   {
    "duration": 375,
    "start_time": "2022-12-30T22:53:11.563Z"
   },
   {
    "duration": 275,
    "start_time": "2022-12-30T22:53:26.085Z"
   },
   {
    "duration": 13,
    "start_time": "2022-12-30T23:02:22.801Z"
   },
   {
    "duration": 14,
    "start_time": "2022-12-30T23:03:45.041Z"
   },
   {
    "duration": 15,
    "start_time": "2022-12-30T23:04:11.696Z"
   },
   {
    "duration": 11,
    "start_time": "2022-12-30T23:04:27.762Z"
   },
   {
    "duration": 8,
    "start_time": "2022-12-30T23:04:34.031Z"
   },
   {
    "duration": 11,
    "start_time": "2022-12-30T23:04:36.679Z"
   },
   {
    "duration": 11,
    "start_time": "2022-12-30T23:06:54.732Z"
   },
   {
    "duration": 271,
    "start_time": "2022-12-30T23:10:11.784Z"
   },
   {
    "duration": 274,
    "start_time": "2022-12-30T23:10:57.233Z"
   },
   {
    "duration": 9,
    "start_time": "2022-12-30T23:13:37.674Z"
   },
   {
    "duration": 406,
    "start_time": "2022-12-30T23:13:52.747Z"
   },
   {
    "duration": 14,
    "start_time": "2022-12-30T23:14:02.506Z"
   },
   {
    "duration": 342,
    "start_time": "2022-12-30T23:15:41.777Z"
   },
   {
    "duration": 380,
    "start_time": "2022-12-30T23:19:36.642Z"
   },
   {
    "duration": 285,
    "start_time": "2022-12-30T23:23:26.864Z"
   },
   {
    "duration": 1200,
    "start_time": "2023-01-01T20:37:28.648Z"
   },
   {
    "duration": 3,
    "start_time": "2023-01-01T20:37:29.850Z"
   },
   {
    "duration": 10,
    "start_time": "2023-01-01T20:37:29.854Z"
   },
   {
    "duration": 5,
    "start_time": "2023-01-01T20:37:29.865Z"
   },
   {
    "duration": 5,
    "start_time": "2023-01-01T20:37:29.872Z"
   },
   {
    "duration": 67,
    "start_time": "2023-01-01T20:37:29.878Z"
   },
   {
    "duration": 11,
    "start_time": "2023-01-01T20:37:29.947Z"
   },
   {
    "duration": 5,
    "start_time": "2023-01-01T20:37:29.960Z"
   },
   {
    "duration": 11,
    "start_time": "2023-01-01T20:37:29.966Z"
   },
   {
    "duration": 14,
    "start_time": "2023-01-01T20:37:29.979Z"
   },
   {
    "duration": 187,
    "start_time": "2023-01-01T20:37:29.994Z"
   },
   {
    "duration": 23,
    "start_time": "2023-01-01T20:37:30.183Z"
   },
   {
    "duration": 3,
    "start_time": "2023-01-01T20:37:30.207Z"
   },
   {
    "duration": 19,
    "start_time": "2023-01-01T20:37:30.213Z"
   },
   {
    "duration": 27,
    "start_time": "2023-01-01T20:37:30.233Z"
   },
   {
    "duration": 4,
    "start_time": "2023-01-01T20:37:30.262Z"
   },
   {
    "duration": 17,
    "start_time": "2023-01-01T20:37:30.267Z"
   },
   {
    "duration": 10,
    "start_time": "2023-01-01T20:37:30.286Z"
   },
   {
    "duration": 16,
    "start_time": "2023-01-01T20:37:30.297Z"
   },
   {
    "duration": 157,
    "start_time": "2023-01-01T20:37:30.315Z"
   },
   {
    "duration": 122,
    "start_time": "2023-01-01T20:37:30.474Z"
   },
   {
    "duration": 28,
    "start_time": "2023-01-01T20:37:30.597Z"
   },
   {
    "duration": 38,
    "start_time": "2023-01-01T20:37:30.627Z"
   },
   {
    "duration": 302,
    "start_time": "2023-01-01T20:37:30.667Z"
   },
   {
    "duration": 289,
    "start_time": "2023-01-01T20:37:30.971Z"
   },
   {
    "duration": 435,
    "start_time": "2023-01-01T20:37:31.261Z"
   },
   {
    "duration": 296,
    "start_time": "2023-01-01T20:37:31.697Z"
   },
   {
    "duration": 422,
    "start_time": "2023-01-01T20:37:31.995Z"
   },
   {
    "duration": 11,
    "start_time": "2023-01-01T20:54:22.871Z"
   },
   {
    "duration": 11,
    "start_time": "2023-01-01T20:55:44.343Z"
   },
   {
    "duration": 9,
    "start_time": "2023-01-01T20:58:00.703Z"
   },
   {
    "duration": 10,
    "start_time": "2023-01-01T20:58:07.905Z"
   },
   {
    "duration": 11,
    "start_time": "2023-01-01T21:01:19.837Z"
   },
   {
    "duration": 149,
    "start_time": "2023-01-01T21:01:59.008Z"
   },
   {
    "duration": 139,
    "start_time": "2023-01-01T21:02:46.698Z"
   },
   {
    "duration": 139,
    "start_time": "2023-01-01T21:02:55.468Z"
   },
   {
    "duration": 124,
    "start_time": "2023-01-01T21:03:24.715Z"
   },
   {
    "duration": 200,
    "start_time": "2023-01-01T21:03:32.651Z"
   },
   {
    "duration": 128,
    "start_time": "2023-01-01T21:05:38.226Z"
   },
   {
    "duration": 4,
    "start_time": "2023-01-01T21:15:09.064Z"
   },
   {
    "duration": 151,
    "start_time": "2023-01-01T21:24:37.412Z"
   },
   {
    "duration": 142,
    "start_time": "2023-01-01T21:25:11.118Z"
   },
   {
    "duration": 143,
    "start_time": "2023-01-01T21:25:17.252Z"
   },
   {
    "duration": 132,
    "start_time": "2023-01-01T21:25:25.380Z"
   },
   {
    "duration": 4,
    "start_time": "2023-01-01T21:27:40.929Z"
   },
   {
    "duration": 142,
    "start_time": "2023-01-01T21:28:00.071Z"
   },
   {
    "duration": 150,
    "start_time": "2023-01-01T21:28:20.985Z"
   },
   {
    "duration": 14,
    "start_time": "2023-01-01T21:37:42.151Z"
   },
   {
    "duration": 7,
    "start_time": "2023-01-01T21:38:56.519Z"
   },
   {
    "duration": 5,
    "start_time": "2023-01-01T21:39:36.698Z"
   },
   {
    "duration": 46,
    "start_time": "2023-01-01T21:40:34.141Z"
   },
   {
    "duration": 9,
    "start_time": "2023-01-01T21:40:41.135Z"
   },
   {
    "duration": 9,
    "start_time": "2023-01-01T21:40:52.618Z"
   },
   {
    "duration": 8,
    "start_time": "2023-01-01T21:41:07.802Z"
   },
   {
    "duration": 10,
    "start_time": "2023-01-01T21:42:33.484Z"
   },
   {
    "duration": 7,
    "start_time": "2023-01-01T21:43:19.072Z"
   },
   {
    "duration": 5,
    "start_time": "2023-01-01T21:43:24.845Z"
   },
   {
    "duration": 8,
    "start_time": "2023-01-01T21:44:12.061Z"
   },
   {
    "duration": 8,
    "start_time": "2023-01-01T21:44:20.877Z"
   },
   {
    "duration": 8,
    "start_time": "2023-01-01T21:45:09.164Z"
   },
   {
    "duration": 7,
    "start_time": "2023-01-01T21:45:15.273Z"
   },
   {
    "duration": 8,
    "start_time": "2023-01-01T21:45:30.489Z"
   },
   {
    "duration": 10,
    "start_time": "2023-01-01T21:48:12.744Z"
   },
   {
    "duration": 1384,
    "start_time": "2023-01-07T22:07:26.461Z"
   },
   {
    "duration": 3,
    "start_time": "2023-01-07T22:07:27.847Z"
   },
   {
    "duration": 14,
    "start_time": "2023-01-07T22:07:27.852Z"
   },
   {
    "duration": 30,
    "start_time": "2023-01-07T22:07:27.869Z"
   },
   {
    "duration": 16,
    "start_time": "2023-01-07T22:07:27.901Z"
   },
   {
    "duration": 92,
    "start_time": "2023-01-07T22:07:27.919Z"
   },
   {
    "duration": 14,
    "start_time": "2023-01-07T22:07:28.013Z"
   },
   {
    "duration": 8,
    "start_time": "2023-01-07T22:07:28.030Z"
   },
   {
    "duration": 35,
    "start_time": "2023-01-07T22:07:28.040Z"
   },
   {
    "duration": 17,
    "start_time": "2023-01-07T22:07:28.091Z"
   },
   {
    "duration": 155,
    "start_time": "2023-01-07T22:07:28.110Z"
   },
   {
    "duration": 33,
    "start_time": "2023-01-07T22:07:28.266Z"
   },
   {
    "duration": 7,
    "start_time": "2023-01-07T22:07:28.300Z"
   },
   {
    "duration": 29,
    "start_time": "2023-01-07T22:07:28.309Z"
   },
   {
    "duration": 25,
    "start_time": "2023-01-07T22:07:28.340Z"
   },
   {
    "duration": 4,
    "start_time": "2023-01-07T22:07:28.367Z"
   },
   {
    "duration": 27,
    "start_time": "2023-01-07T22:07:28.372Z"
   },
   {
    "duration": 23,
    "start_time": "2023-01-07T22:07:28.401Z"
   },
   {
    "duration": 8,
    "start_time": "2023-01-07T22:07:28.426Z"
   },
   {
    "duration": 175,
    "start_time": "2023-01-07T22:07:28.435Z"
   },
   {
    "duration": 145,
    "start_time": "2023-01-07T22:07:28.612Z"
   },
   {
    "duration": 25,
    "start_time": "2023-01-07T22:07:28.759Z"
   },
   {
    "duration": 20,
    "start_time": "2023-01-07T22:07:28.788Z"
   },
   {
    "duration": 342,
    "start_time": "2023-01-07T22:07:28.810Z"
   },
   {
    "duration": 347,
    "start_time": "2023-01-07T22:07:29.153Z"
   },
   {
    "duration": 437,
    "start_time": "2023-01-07T22:07:29.502Z"
   },
   {
    "duration": 315,
    "start_time": "2023-01-07T22:07:29.941Z"
   },
   {
    "duration": 488,
    "start_time": "2023-01-07T22:07:30.259Z"
   },
   {
    "duration": 12,
    "start_time": "2023-01-07T22:07:30.749Z"
   },
   {
    "duration": 197,
    "start_time": "2023-01-07T22:07:30.763Z"
   },
   {
    "duration": 5,
    "start_time": "2023-01-07T22:07:30.962Z"
   },
   {
    "duration": 239,
    "start_time": "2023-01-07T22:07:30.969Z"
   },
   {
    "duration": 5,
    "start_time": "2023-01-07T22:07:31.210Z"
   },
   {
    "duration": 54,
    "start_time": "2023-01-07T22:07:31.217Z"
   },
   {
    "duration": 137,
    "start_time": "2023-01-07T22:07:31.273Z"
   },
   {
    "duration": 8,
    "start_time": "2023-01-07T22:14:10.839Z"
   },
   {
    "duration": 18,
    "start_time": "2023-01-07T22:22:49.108Z"
   },
   {
    "duration": 13,
    "start_time": "2023-01-07T22:24:53.128Z"
   },
   {
    "duration": 4,
    "start_time": "2023-01-07T22:25:10.511Z"
   },
   {
    "duration": 10,
    "start_time": "2023-01-07T22:29:15.562Z"
   },
   {
    "duration": 4,
    "start_time": "2023-01-07T22:42:19.266Z"
   },
   {
    "duration": 20,
    "start_time": "2023-01-07T22:50:13.891Z"
   },
   {
    "duration": 13,
    "start_time": "2023-01-07T22:50:14.883Z"
   },
   {
    "duration": 12,
    "start_time": "2023-01-07T22:52:55.797Z"
   },
   {
    "duration": 17,
    "start_time": "2023-01-07T22:52:59.320Z"
   },
   {
    "duration": 19,
    "start_time": "2023-01-07T22:53:00.353Z"
   },
   {
    "duration": 19,
    "start_time": "2023-01-07T22:53:34.930Z"
   },
   {
    "duration": 16,
    "start_time": "2023-01-07T22:53:39.135Z"
   },
   {
    "duration": 6,
    "start_time": "2023-01-07T22:58:48.810Z"
   },
   {
    "duration": 6,
    "start_time": "2023-01-07T22:59:00.715Z"
   },
   {
    "duration": 5,
    "start_time": "2023-01-07T22:59:11.301Z"
   },
   {
    "duration": 13,
    "start_time": "2023-01-07T22:59:32.565Z"
   },
   {
    "duration": 13,
    "start_time": "2023-01-07T22:59:52.763Z"
   },
   {
    "duration": 15,
    "start_time": "2023-01-07T23:00:19.045Z"
   },
   {
    "duration": 12,
    "start_time": "2023-01-07T23:04:01.093Z"
   },
   {
    "duration": 6,
    "start_time": "2023-01-07T23:04:03.395Z"
   },
   {
    "duration": 8,
    "start_time": "2023-01-07T23:04:04.935Z"
   },
   {
    "duration": 21,
    "start_time": "2023-01-07T23:04:47.325Z"
   },
   {
    "duration": 19,
    "start_time": "2023-01-07T23:05:59.169Z"
   },
   {
    "duration": 22,
    "start_time": "2023-01-07T23:06:18.023Z"
   },
   {
    "duration": 20,
    "start_time": "2023-01-07T23:11:59.608Z"
   },
   {
    "duration": 24,
    "start_time": "2023-01-07T23:12:36.061Z"
   },
   {
    "duration": 12,
    "start_time": "2023-01-07T23:31:17.437Z"
   },
   {
    "duration": 1113,
    "start_time": "2023-01-07T23:32:13.604Z"
   },
   {
    "duration": 3,
    "start_time": "2023-01-07T23:32:14.719Z"
   },
   {
    "duration": 7,
    "start_time": "2023-01-07T23:32:14.723Z"
   },
   {
    "duration": 7,
    "start_time": "2023-01-07T23:32:14.731Z"
   },
   {
    "duration": 5,
    "start_time": "2023-01-07T23:32:14.741Z"
   },
   {
    "duration": 38,
    "start_time": "2023-01-07T23:32:14.748Z"
   },
   {
    "duration": 12,
    "start_time": "2023-01-07T23:32:14.788Z"
   },
   {
    "duration": 4,
    "start_time": "2023-01-07T23:32:14.802Z"
   },
   {
    "duration": 12,
    "start_time": "2023-01-07T23:32:14.808Z"
   },
   {
    "duration": 9,
    "start_time": "2023-01-07T23:32:14.822Z"
   },
   {
    "duration": 54,
    "start_time": "2023-01-07T23:32:14.833Z"
   },
   {
    "duration": 23,
    "start_time": "2023-01-07T23:32:14.889Z"
   },
   {
    "duration": 4,
    "start_time": "2023-01-07T23:32:14.914Z"
   },
   {
    "duration": 20,
    "start_time": "2023-01-07T23:32:14.922Z"
   },
   {
    "duration": 39,
    "start_time": "2023-01-07T23:32:14.944Z"
   },
   {
    "duration": 5,
    "start_time": "2023-01-07T23:32:14.985Z"
   },
   {
    "duration": 13,
    "start_time": "2023-01-07T23:32:14.991Z"
   },
   {
    "duration": 20,
    "start_time": "2023-01-07T23:32:15.006Z"
   },
   {
    "duration": 9,
    "start_time": "2023-01-07T23:32:15.028Z"
   },
   {
    "duration": 203,
    "start_time": "2023-01-07T23:32:15.039Z"
   },
   {
    "duration": 134,
    "start_time": "2023-01-07T23:32:15.244Z"
   },
   {
    "duration": 17,
    "start_time": "2023-01-07T23:32:15.381Z"
   },
   {
    "duration": 26,
    "start_time": "2023-01-07T23:32:15.400Z"
   },
   {
    "duration": 364,
    "start_time": "2023-01-07T23:32:15.428Z"
   },
   {
    "duration": 324,
    "start_time": "2023-01-07T23:32:15.794Z"
   },
   {
    "duration": 406,
    "start_time": "2023-01-07T23:32:16.120Z"
   },
   {
    "duration": 335,
    "start_time": "2023-01-07T23:32:16.528Z"
   },
   {
    "duration": 451,
    "start_time": "2023-01-07T23:32:16.864Z"
   },
   {
    "duration": 14,
    "start_time": "2023-01-07T23:32:17.316Z"
   },
   {
    "duration": 168,
    "start_time": "2023-01-07T23:32:17.332Z"
   },
   {
    "duration": 5,
    "start_time": "2023-01-07T23:32:17.502Z"
   },
   {
    "duration": 190,
    "start_time": "2023-01-07T23:32:17.509Z"
   },
   {
    "duration": 5,
    "start_time": "2023-01-07T23:32:17.700Z"
   },
   {
    "duration": 15,
    "start_time": "2023-01-07T23:32:17.706Z"
   },
   {
    "duration": 15,
    "start_time": "2023-01-07T23:32:17.723Z"
   },
   {
    "duration": 9,
    "start_time": "2023-01-07T23:32:17.739Z"
   },
   {
    "duration": 38,
    "start_time": "2023-01-07T23:32:17.749Z"
   },
   {
    "duration": 21,
    "start_time": "2023-01-07T23:32:17.789Z"
   },
   {
    "duration": 7,
    "start_time": "2023-01-07T23:32:17.811Z"
   },
   {
    "duration": 32,
    "start_time": "2023-01-07T23:32:17.820Z"
   },
   {
    "duration": 32,
    "start_time": "2023-01-07T23:32:17.856Z"
   },
   {
    "duration": 117,
    "start_time": "2023-01-07T23:37:20.933Z"
   },
   {
    "duration": 213,
    "start_time": "2023-01-07T23:37:26.588Z"
   },
   {
    "duration": 1278,
    "start_time": "2023-01-08T23:07:15.098Z"
   },
   {
    "duration": 2,
    "start_time": "2023-01-08T23:07:16.379Z"
   },
   {
    "duration": 6,
    "start_time": "2023-01-08T23:07:16.383Z"
   },
   {
    "duration": 3,
    "start_time": "2023-01-08T23:07:16.395Z"
   },
   {
    "duration": 6,
    "start_time": "2023-01-08T23:07:16.399Z"
   },
   {
    "duration": 71,
    "start_time": "2023-01-08T23:07:16.406Z"
   },
   {
    "duration": 11,
    "start_time": "2023-01-08T23:07:16.479Z"
   },
   {
    "duration": 4,
    "start_time": "2023-01-08T23:07:16.492Z"
   },
   {
    "duration": 11,
    "start_time": "2023-01-08T23:07:16.498Z"
   },
   {
    "duration": 7,
    "start_time": "2023-01-08T23:07:16.512Z"
   },
   {
    "duration": 147,
    "start_time": "2023-01-08T23:07:16.520Z"
   },
   {
    "duration": 20,
    "start_time": "2023-01-08T23:07:16.668Z"
   },
   {
    "duration": 3,
    "start_time": "2023-01-08T23:07:16.690Z"
   },
   {
    "duration": 14,
    "start_time": "2023-01-08T23:07:16.694Z"
   },
   {
    "duration": 20,
    "start_time": "2023-01-08T23:07:16.710Z"
   },
   {
    "duration": 4,
    "start_time": "2023-01-08T23:07:16.732Z"
   },
   {
    "duration": 10,
    "start_time": "2023-01-08T23:07:16.737Z"
   },
   {
    "duration": 9,
    "start_time": "2023-01-08T23:07:16.748Z"
   },
   {
    "duration": 5,
    "start_time": "2023-01-08T23:07:16.758Z"
   },
   {
    "duration": 195,
    "start_time": "2023-01-08T23:07:16.764Z"
   },
   {
    "duration": 123,
    "start_time": "2023-01-08T23:07:16.961Z"
   },
   {
    "duration": 23,
    "start_time": "2023-01-08T23:07:17.086Z"
   },
   {
    "duration": 18,
    "start_time": "2023-01-08T23:07:17.110Z"
   },
   {
    "duration": 327,
    "start_time": "2023-01-08T23:07:17.129Z"
   },
   {
    "duration": 304,
    "start_time": "2023-01-08T23:07:17.458Z"
   },
   {
    "duration": 481,
    "start_time": "2023-01-08T23:07:17.764Z"
   },
   {
    "duration": 304,
    "start_time": "2023-01-08T23:07:18.247Z"
   },
   {
    "duration": 394,
    "start_time": "2023-01-08T23:07:18.554Z"
   },
   {
    "duration": 12,
    "start_time": "2023-01-08T23:07:18.950Z"
   },
   {
    "duration": 177,
    "start_time": "2023-01-08T23:07:18.964Z"
   },
   {
    "duration": 5,
    "start_time": "2023-01-08T23:07:19.143Z"
   },
   {
    "duration": 186,
    "start_time": "2023-01-08T23:07:19.150Z"
   },
   {
    "duration": 4,
    "start_time": "2023-01-08T23:07:19.337Z"
   },
   {
    "duration": 9,
    "start_time": "2023-01-08T23:07:19.343Z"
   },
   {
    "duration": 16,
    "start_time": "2023-01-08T23:07:19.354Z"
   },
   {
    "duration": 25,
    "start_time": "2023-01-08T23:07:19.371Z"
   },
   {
    "duration": 18,
    "start_time": "2023-01-08T23:07:19.398Z"
   },
   {
    "duration": 22,
    "start_time": "2023-01-08T23:07:19.418Z"
   },
   {
    "duration": 8,
    "start_time": "2023-01-08T23:07:19.442Z"
   },
   {
    "duration": 52,
    "start_time": "2023-01-08T23:07:19.452Z"
   },
   {
    "duration": 13,
    "start_time": "2023-01-08T23:07:19.506Z"
   },
   {
    "duration": 114,
    "start_time": "2023-01-08T23:07:19.521Z"
   },
   {
    "duration": 0,
    "start_time": "2023-01-08T23:07:19.637Z"
   },
   {
    "duration": 3,
    "start_time": "2023-01-08T23:07:40.371Z"
   },
   {
    "duration": 167,
    "start_time": "2023-01-08T23:11:05.622Z"
   },
   {
    "duration": 10,
    "start_time": "2023-01-08T23:16:11.869Z"
   },
   {
    "duration": 15,
    "start_time": "2023-01-08T23:21:22.370Z"
   },
   {
    "duration": 743,
    "start_time": "2023-01-08T23:28:14.043Z"
   },
   {
    "duration": 6,
    "start_time": "2023-01-08T23:28:31.758Z"
   },
   {
    "duration": 8,
    "start_time": "2023-01-08T23:28:37.085Z"
   },
   {
    "duration": 13,
    "start_time": "2023-01-08T23:28:46.567Z"
   },
   {
    "duration": 11,
    "start_time": "2023-01-08T23:28:58.196Z"
   },
   {
    "duration": 11,
    "start_time": "2023-01-08T23:29:39.403Z"
   },
   {
    "duration": 15,
    "start_time": "2023-01-08T23:30:30.924Z"
   },
   {
    "duration": 11,
    "start_time": "2023-01-08T23:30:55.070Z"
   },
   {
    "duration": 16,
    "start_time": "2023-01-08T23:32:26.550Z"
   },
   {
    "duration": 17,
    "start_time": "2023-01-08T23:32:46.125Z"
   },
   {
    "duration": 139,
    "start_time": "2023-01-08T23:34:29.263Z"
   },
   {
    "duration": 25,
    "start_time": "2023-01-08T23:34:38.436Z"
   },
   {
    "duration": 53,
    "start_time": "2023-01-08T23:36:45.536Z"
   },
   {
    "duration": 24,
    "start_time": "2023-01-08T23:36:48.773Z"
   },
   {
    "duration": 19,
    "start_time": "2023-01-08T23:37:38.449Z"
   },
   {
    "duration": 19,
    "start_time": "2023-01-08T23:37:46.493Z"
   },
   {
    "duration": 20,
    "start_time": "2023-01-08T23:38:18.640Z"
   },
   {
    "duration": 27,
    "start_time": "2023-01-08T23:38:41.458Z"
   },
   {
    "duration": 19,
    "start_time": "2023-01-08T23:39:32.328Z"
   },
   {
    "duration": 23,
    "start_time": "2023-01-08T23:40:03.945Z"
   },
   {
    "duration": 14,
    "start_time": "2023-01-08T23:40:26.317Z"
   },
   {
    "duration": 18,
    "start_time": "2023-01-08T23:43:25.246Z"
   },
   {
    "duration": 15,
    "start_time": "2023-01-08T23:44:16.667Z"
   },
   {
    "duration": 8,
    "start_time": "2023-01-08T23:45:20.937Z"
   },
   {
    "duration": 12,
    "start_time": "2023-01-08T23:45:39.622Z"
   },
   {
    "duration": 13,
    "start_time": "2023-01-08T23:45:57.685Z"
   },
   {
    "duration": 20,
    "start_time": "2023-01-08T23:47:36.097Z"
   },
   {
    "duration": 20,
    "start_time": "2023-01-08T23:48:19.080Z"
   },
   {
    "duration": 5,
    "start_time": "2023-01-08T23:49:02.207Z"
   },
   {
    "duration": 22,
    "start_time": "2023-01-08T23:49:38.543Z"
   },
   {
    "duration": 20,
    "start_time": "2023-01-08T23:50:20.299Z"
   },
   {
    "duration": 9,
    "start_time": "2023-01-08T23:52:01.523Z"
   },
   {
    "duration": 12,
    "start_time": "2023-01-08T23:52:03.440Z"
   },
   {
    "duration": 23,
    "start_time": "2023-01-08T23:54:10.083Z"
   },
   {
    "duration": 14,
    "start_time": "2023-01-08T23:56:58.846Z"
   },
   {
    "duration": 21,
    "start_time": "2023-01-09T00:05:29.913Z"
   },
   {
    "duration": 13,
    "start_time": "2023-01-09T00:06:20.002Z"
   },
   {
    "duration": 13,
    "start_time": "2023-01-09T00:06:26.950Z"
   },
   {
    "duration": 15,
    "start_time": "2023-01-09T00:08:42.655Z"
   },
   {
    "duration": 13,
    "start_time": "2023-01-09T00:10:22.852Z"
   },
   {
    "duration": 13,
    "start_time": "2023-01-09T00:10:47.661Z"
   },
   {
    "duration": 11,
    "start_time": "2023-01-09T00:11:12.813Z"
   },
   {
    "duration": 1004,
    "start_time": "2023-01-09T00:32:01.736Z"
   },
   {
    "duration": 3,
    "start_time": "2023-01-09T00:32:02.742Z"
   },
   {
    "duration": 6,
    "start_time": "2023-01-09T00:32:02.746Z"
   },
   {
    "duration": 7,
    "start_time": "2023-01-09T00:32:02.754Z"
   },
   {
    "duration": 7,
    "start_time": "2023-01-09T00:32:02.762Z"
   },
   {
    "duration": 63,
    "start_time": "2023-01-09T00:32:02.770Z"
   },
   {
    "duration": 11,
    "start_time": "2023-01-09T00:32:02.835Z"
   },
   {
    "duration": 5,
    "start_time": "2023-01-09T00:32:02.847Z"
   },
   {
    "duration": 10,
    "start_time": "2023-01-09T00:32:02.853Z"
   },
   {
    "duration": 8,
    "start_time": "2023-01-09T00:32:02.865Z"
   },
   {
    "duration": 137,
    "start_time": "2023-01-09T00:32:02.874Z"
   },
   {
    "duration": 21,
    "start_time": "2023-01-09T00:32:03.012Z"
   },
   {
    "duration": 3,
    "start_time": "2023-01-09T00:32:03.034Z"
   },
   {
    "duration": 19,
    "start_time": "2023-01-09T00:32:03.039Z"
   },
   {
    "duration": 25,
    "start_time": "2023-01-09T00:32:03.059Z"
   },
   {
    "duration": 3,
    "start_time": "2023-01-09T00:32:03.097Z"
   },
   {
    "duration": 9,
    "start_time": "2023-01-09T00:32:03.102Z"
   },
   {
    "duration": 8,
    "start_time": "2023-01-09T00:32:03.113Z"
   },
   {
    "duration": 5,
    "start_time": "2023-01-09T00:32:03.123Z"
   },
   {
    "duration": 177,
    "start_time": "2023-01-09T00:32:03.129Z"
   },
   {
    "duration": 132,
    "start_time": "2023-01-09T00:32:03.307Z"
   },
   {
    "duration": 15,
    "start_time": "2023-01-09T00:32:03.441Z"
   },
   {
    "duration": 17,
    "start_time": "2023-01-09T00:32:03.457Z"
   },
   {
    "duration": 328,
    "start_time": "2023-01-09T00:32:03.475Z"
   },
   {
    "duration": 313,
    "start_time": "2023-01-09T00:32:03.805Z"
   },
   {
    "duration": 391,
    "start_time": "2023-01-09T00:32:04.120Z"
   },
   {
    "duration": 311,
    "start_time": "2023-01-09T00:32:04.513Z"
   },
   {
    "duration": 408,
    "start_time": "2023-01-09T00:32:04.828Z"
   },
   {
    "duration": 12,
    "start_time": "2023-01-09T00:32:05.238Z"
   },
   {
    "duration": 159,
    "start_time": "2023-01-09T00:32:05.252Z"
   },
   {
    "duration": 4,
    "start_time": "2023-01-09T00:32:05.412Z"
   },
   {
    "duration": 172,
    "start_time": "2023-01-09T00:32:05.418Z"
   },
   {
    "duration": 7,
    "start_time": "2023-01-09T00:32:05.591Z"
   },
   {
    "duration": 14,
    "start_time": "2023-01-09T00:32:05.599Z"
   },
   {
    "duration": 48,
    "start_time": "2023-01-09T00:32:05.615Z"
   },
   {
    "duration": 21,
    "start_time": "2023-01-09T00:32:05.664Z"
   },
   {
    "duration": 36,
    "start_time": "2023-01-09T00:32:05.687Z"
   },
   {
    "duration": 16,
    "start_time": "2023-01-09T00:32:05.725Z"
   },
   {
    "duration": 8,
    "start_time": "2023-01-09T00:32:05.743Z"
   },
   {
    "duration": 23,
    "start_time": "2023-01-09T00:32:05.753Z"
   },
   {
    "duration": 24,
    "start_time": "2023-01-09T00:32:05.778Z"
   },
   {
    "duration": 9,
    "start_time": "2023-01-09T00:32:05.804Z"
   },
   {
    "duration": 21,
    "start_time": "2023-01-09T00:32:05.815Z"
   },
   {
    "duration": 11,
    "start_time": "2023-01-09T00:32:05.838Z"
   },
   {
    "duration": 48,
    "start_time": "2023-01-09T00:32:41.505Z"
   },
   {
    "duration": 997,
    "start_time": "2023-01-09T00:32:51.434Z"
   },
   {
    "duration": 3,
    "start_time": "2023-01-09T00:32:52.432Z"
   },
   {
    "duration": 15,
    "start_time": "2023-01-09T00:32:52.436Z"
   },
   {
    "duration": 16,
    "start_time": "2023-01-09T00:32:52.452Z"
   },
   {
    "duration": 8,
    "start_time": "2023-01-09T00:32:52.470Z"
   },
   {
    "duration": 42,
    "start_time": "2023-01-09T00:32:52.479Z"
   },
   {
    "duration": 10,
    "start_time": "2023-01-09T00:32:52.522Z"
   },
   {
    "duration": 8,
    "start_time": "2023-01-09T00:32:52.534Z"
   },
   {
    "duration": 21,
    "start_time": "2023-01-09T00:32:52.544Z"
   },
   {
    "duration": 8,
    "start_time": "2023-01-09T00:32:52.567Z"
   },
   {
    "duration": 66,
    "start_time": "2023-01-09T00:32:52.576Z"
   },
   {
    "duration": 18,
    "start_time": "2023-01-09T00:32:52.644Z"
   },
   {
    "duration": 3,
    "start_time": "2023-01-09T00:32:52.664Z"
   },
   {
    "duration": 15,
    "start_time": "2023-01-09T00:32:52.669Z"
   },
   {
    "duration": 31,
    "start_time": "2023-01-09T00:32:52.685Z"
   },
   {
    "duration": 4,
    "start_time": "2023-01-09T00:32:52.717Z"
   },
   {
    "duration": 24,
    "start_time": "2023-01-09T00:32:52.723Z"
   },
   {
    "duration": 19,
    "start_time": "2023-01-09T00:32:52.749Z"
   },
   {
    "duration": 6,
    "start_time": "2023-01-09T00:32:52.770Z"
   },
   {
    "duration": 157,
    "start_time": "2023-01-09T00:32:52.778Z"
   },
   {
    "duration": 121,
    "start_time": "2023-01-09T00:32:52.936Z"
   },
   {
    "duration": 17,
    "start_time": "2023-01-09T00:32:53.059Z"
   },
   {
    "duration": 32,
    "start_time": "2023-01-09T00:32:53.078Z"
   },
   {
    "duration": 314,
    "start_time": "2023-01-09T00:32:53.112Z"
   },
   {
    "duration": 297,
    "start_time": "2023-01-09T00:32:53.428Z"
   },
   {
    "duration": 378,
    "start_time": "2023-01-09T00:32:53.727Z"
   },
   {
    "duration": 297,
    "start_time": "2023-01-09T00:32:54.107Z"
   },
   {
    "duration": 405,
    "start_time": "2023-01-09T00:32:54.406Z"
   },
   {
    "duration": 14,
    "start_time": "2023-01-09T00:32:54.813Z"
   },
   {
    "duration": 149,
    "start_time": "2023-01-09T00:32:54.828Z"
   },
   {
    "duration": 4,
    "start_time": "2023-01-09T00:32:54.979Z"
   },
   {
    "duration": 177,
    "start_time": "2023-01-09T00:32:54.984Z"
   },
   {
    "duration": 5,
    "start_time": "2023-01-09T00:32:55.162Z"
   },
   {
    "duration": 21,
    "start_time": "2023-01-09T00:32:55.168Z"
   },
   {
    "duration": 24,
    "start_time": "2023-01-09T00:32:55.199Z"
   },
   {
    "duration": 15,
    "start_time": "2023-01-09T00:32:55.224Z"
   },
   {
    "duration": 17,
    "start_time": "2023-01-09T00:32:55.241Z"
   },
   {
    "duration": 17,
    "start_time": "2023-01-09T00:32:55.259Z"
   },
   {
    "duration": 6,
    "start_time": "2023-01-09T00:32:55.278Z"
   },
   {
    "duration": 24,
    "start_time": "2023-01-09T00:32:55.297Z"
   },
   {
    "duration": 15,
    "start_time": "2023-01-09T00:32:55.325Z"
   },
   {
    "duration": 9,
    "start_time": "2023-01-09T00:32:55.342Z"
   },
   {
    "duration": 50,
    "start_time": "2023-01-09T00:32:55.352Z"
   },
   {
    "duration": 10,
    "start_time": "2023-01-09T00:32:55.403Z"
   },
   {
    "duration": 47,
    "start_time": "2023-01-09T00:35:57.059Z"
   },
   {
    "duration": 1054,
    "start_time": "2023-01-09T00:36:09.683Z"
   },
   {
    "duration": 3,
    "start_time": "2023-01-09T00:36:10.739Z"
   },
   {
    "duration": 7,
    "start_time": "2023-01-09T00:36:10.743Z"
   },
   {
    "duration": 12,
    "start_time": "2023-01-09T00:36:10.752Z"
   },
   {
    "duration": 20,
    "start_time": "2023-01-09T00:36:10.766Z"
   },
   {
    "duration": 34,
    "start_time": "2023-01-09T00:36:10.788Z"
   },
   {
    "duration": 12,
    "start_time": "2023-01-09T00:36:10.824Z"
   },
   {
    "duration": 15,
    "start_time": "2023-01-09T00:36:10.837Z"
   },
   {
    "duration": 11,
    "start_time": "2023-01-09T00:36:10.853Z"
   },
   {
    "duration": 7,
    "start_time": "2023-01-09T00:36:10.866Z"
   },
   {
    "duration": 62,
    "start_time": "2023-01-09T00:36:10.874Z"
   },
   {
    "duration": 19,
    "start_time": "2023-01-09T00:36:10.938Z"
   },
   {
    "duration": 3,
    "start_time": "2023-01-09T00:36:10.958Z"
   },
   {
    "duration": 13,
    "start_time": "2023-01-09T00:36:10.964Z"
   },
   {
    "duration": 23,
    "start_time": "2023-01-09T00:36:10.978Z"
   },
   {
    "duration": 4,
    "start_time": "2023-01-09T00:36:11.002Z"
   },
   {
    "duration": 11,
    "start_time": "2023-01-09T00:36:11.008Z"
   },
   {
    "duration": 9,
    "start_time": "2023-01-09T00:36:11.020Z"
   },
   {
    "duration": 5,
    "start_time": "2023-01-09T00:36:11.030Z"
   },
   {
    "duration": 187,
    "start_time": "2023-01-09T00:36:11.037Z"
   },
   {
    "duration": 126,
    "start_time": "2023-01-09T00:36:11.226Z"
   },
   {
    "duration": 19,
    "start_time": "2023-01-09T00:36:11.353Z"
   },
   {
    "duration": 26,
    "start_time": "2023-01-09T00:36:11.374Z"
   },
   {
    "duration": 300,
    "start_time": "2023-01-09T00:36:11.402Z"
   },
   {
    "duration": 314,
    "start_time": "2023-01-09T00:36:11.704Z"
   },
   {
    "duration": 402,
    "start_time": "2023-01-09T00:36:12.019Z"
   },
   {
    "duration": 295,
    "start_time": "2023-01-09T00:36:12.423Z"
   },
   {
    "duration": 383,
    "start_time": "2023-01-09T00:36:12.720Z"
   },
   {
    "duration": 12,
    "start_time": "2023-01-09T00:36:13.104Z"
   },
   {
    "duration": 157,
    "start_time": "2023-01-09T00:36:13.117Z"
   },
   {
    "duration": 4,
    "start_time": "2023-01-09T00:36:13.276Z"
   },
   {
    "duration": 164,
    "start_time": "2023-01-09T00:36:13.282Z"
   },
   {
    "duration": 4,
    "start_time": "2023-01-09T00:36:13.448Z"
   },
   {
    "duration": 26,
    "start_time": "2023-01-09T00:36:13.453Z"
   },
   {
    "duration": 16,
    "start_time": "2023-01-09T00:36:13.480Z"
   },
   {
    "duration": 10,
    "start_time": "2023-01-09T00:36:13.498Z"
   },
   {
    "duration": 20,
    "start_time": "2023-01-09T00:36:13.510Z"
   },
   {
    "duration": 16,
    "start_time": "2023-01-09T00:36:13.531Z"
   },
   {
    "duration": 5,
    "start_time": "2023-01-09T00:36:13.549Z"
   },
   {
    "duration": 52,
    "start_time": "2023-01-09T00:36:13.556Z"
   },
   {
    "duration": 14,
    "start_time": "2023-01-09T00:36:13.612Z"
   },
   {
    "duration": 7,
    "start_time": "2023-01-09T00:36:13.628Z"
   },
   {
    "duration": 20,
    "start_time": "2023-01-09T00:36:13.637Z"
   },
   {
    "duration": 10,
    "start_time": "2023-01-09T00:36:13.659Z"
   },
   {
    "duration": 209,
    "start_time": "2023-01-09T00:36:13.697Z"
   },
   {
    "duration": 16,
    "start_time": "2023-01-09T00:36:13.908Z"
   },
   {
    "duration": 17,
    "start_time": "2023-01-09T00:36:13.926Z"
   },
   {
    "duration": 439,
    "start_time": "2023-01-09T00:36:13.944Z"
   },
   {
    "duration": 25,
    "start_time": "2023-01-09T00:36:53.983Z"
   },
   {
    "duration": 17,
    "start_time": "2023-01-09T00:37:24.906Z"
   },
   {
    "duration": 25,
    "start_time": "2023-01-09T00:38:20.107Z"
   },
   {
    "duration": 19,
    "start_time": "2023-01-09T00:39:31.517Z"
   },
   {
    "duration": 29,
    "start_time": "2023-01-09T00:39:50.392Z"
   },
   {
    "duration": 7,
    "start_time": "2023-01-09T00:40:56.537Z"
   },
   {
    "duration": 200,
    "start_time": "2023-01-09T00:41:00.966Z"
   },
   {
    "duration": 19,
    "start_time": "2023-01-09T00:41:41.078Z"
   },
   {
    "duration": 10,
    "start_time": "2023-01-09T00:44:32.744Z"
   },
   {
    "duration": 403,
    "start_time": "2023-01-09T00:44:44.891Z"
   },
   {
    "duration": 407,
    "start_time": "2023-01-09T00:45:10.886Z"
   },
   {
    "duration": 381,
    "start_time": "2023-01-09T00:48:01.538Z"
   },
   {
    "duration": 1050,
    "start_time": "2023-01-09T00:50:24.694Z"
   },
   {
    "duration": 3,
    "start_time": "2023-01-09T00:50:25.746Z"
   },
   {
    "duration": 7,
    "start_time": "2023-01-09T00:50:25.751Z"
   },
   {
    "duration": 6,
    "start_time": "2023-01-09T00:50:25.759Z"
   },
   {
    "duration": 4,
    "start_time": "2023-01-09T00:50:25.767Z"
   },
   {
    "duration": 38,
    "start_time": "2023-01-09T00:50:25.773Z"
   },
   {
    "duration": 13,
    "start_time": "2023-01-09T00:50:25.813Z"
   },
   {
    "duration": 6,
    "start_time": "2023-01-09T00:50:25.828Z"
   },
   {
    "duration": 17,
    "start_time": "2023-01-09T00:50:25.835Z"
   },
   {
    "duration": 8,
    "start_time": "2023-01-09T00:50:25.854Z"
   },
   {
    "duration": 58,
    "start_time": "2023-01-09T00:50:25.863Z"
   },
   {
    "duration": 26,
    "start_time": "2023-01-09T00:50:25.923Z"
   },
   {
    "duration": 4,
    "start_time": "2023-01-09T00:50:25.951Z"
   },
   {
    "duration": 16,
    "start_time": "2023-01-09T00:50:25.959Z"
   },
   {
    "duration": 31,
    "start_time": "2023-01-09T00:50:25.977Z"
   },
   {
    "duration": 6,
    "start_time": "2023-01-09T00:50:26.010Z"
   },
   {
    "duration": 22,
    "start_time": "2023-01-09T00:50:26.018Z"
   },
   {
    "duration": 15,
    "start_time": "2023-01-09T00:50:26.042Z"
   },
   {
    "duration": 7,
    "start_time": "2023-01-09T00:50:26.060Z"
   },
   {
    "duration": 201,
    "start_time": "2023-01-09T00:50:26.069Z"
   },
   {
    "duration": 127,
    "start_time": "2023-01-09T00:50:26.271Z"
   },
   {
    "duration": 15,
    "start_time": "2023-01-09T00:50:26.399Z"
   },
   {
    "duration": 16,
    "start_time": "2023-01-09T00:50:26.416Z"
   },
   {
    "duration": 325,
    "start_time": "2023-01-09T00:50:26.434Z"
   },
   {
    "duration": 316,
    "start_time": "2023-01-09T00:50:26.761Z"
   },
   {
    "duration": 424,
    "start_time": "2023-01-09T00:50:27.078Z"
   },
   {
    "duration": 312,
    "start_time": "2023-01-09T00:50:27.504Z"
   },
   {
    "duration": 410,
    "start_time": "2023-01-09T00:50:27.818Z"
   },
   {
    "duration": 11,
    "start_time": "2023-01-09T00:50:28.230Z"
   },
   {
    "duration": 156,
    "start_time": "2023-01-09T00:50:28.243Z"
   },
   {
    "duration": 5,
    "start_time": "2023-01-09T00:50:28.401Z"
   },
   {
    "duration": 169,
    "start_time": "2023-01-09T00:50:28.408Z"
   },
   {
    "duration": 5,
    "start_time": "2023-01-09T00:50:28.579Z"
   },
   {
    "duration": 11,
    "start_time": "2023-01-09T00:50:28.596Z"
   },
   {
    "duration": 13,
    "start_time": "2023-01-09T00:50:28.609Z"
   },
   {
    "duration": 8,
    "start_time": "2023-01-09T00:50:28.624Z"
   },
   {
    "duration": 26,
    "start_time": "2023-01-09T00:50:28.634Z"
   },
   {
    "duration": 37,
    "start_time": "2023-01-09T00:50:28.662Z"
   },
   {
    "duration": 20,
    "start_time": "2023-01-09T00:50:28.700Z"
   },
   {
    "duration": 25,
    "start_time": "2023-01-09T00:50:28.722Z"
   },
   {
    "duration": 15,
    "start_time": "2023-01-09T00:50:28.750Z"
   },
   {
    "duration": 8,
    "start_time": "2023-01-09T00:50:28.767Z"
   },
   {
    "duration": 35,
    "start_time": "2023-01-09T00:50:28.776Z"
   },
   {
    "duration": 10,
    "start_time": "2023-01-09T00:50:28.813Z"
   },
   {
    "duration": 218,
    "start_time": "2023-01-09T00:50:28.825Z"
   },
   {
    "duration": 6,
    "start_time": "2023-01-09T00:50:29.045Z"
   },
   {
    "duration": 15,
    "start_time": "2023-01-09T00:50:29.052Z"
   },
   {
    "duration": 506,
    "start_time": "2023-01-09T00:50:29.069Z"
   },
   {
    "duration": 464,
    "start_time": "2023-01-09T00:50:29.577Z"
   },
   {
    "duration": 1171,
    "start_time": "2023-01-09T23:00:55.138Z"
   },
   {
    "duration": 3,
    "start_time": "2023-01-09T23:00:56.310Z"
   },
   {
    "duration": 6,
    "start_time": "2023-01-09T23:00:56.314Z"
   },
   {
    "duration": 5,
    "start_time": "2023-01-09T23:00:56.321Z"
   },
   {
    "duration": 11,
    "start_time": "2023-01-09T23:00:56.328Z"
   },
   {
    "duration": 32,
    "start_time": "2023-01-09T23:00:56.341Z"
   },
   {
    "duration": 12,
    "start_time": "2023-01-09T23:00:56.374Z"
   },
   {
    "duration": 4,
    "start_time": "2023-01-09T23:00:56.388Z"
   },
   {
    "duration": 11,
    "start_time": "2023-01-09T23:00:56.393Z"
   },
   {
    "duration": 8,
    "start_time": "2023-01-09T23:00:56.406Z"
   },
   {
    "duration": 53,
    "start_time": "2023-01-09T23:00:56.416Z"
   },
   {
    "duration": 20,
    "start_time": "2023-01-09T23:00:56.471Z"
   },
   {
    "duration": 3,
    "start_time": "2023-01-09T23:00:56.492Z"
   },
   {
    "duration": 12,
    "start_time": "2023-01-09T23:00:56.498Z"
   },
   {
    "duration": 27,
    "start_time": "2023-01-09T23:00:56.512Z"
   },
   {
    "duration": 4,
    "start_time": "2023-01-09T23:00:56.540Z"
   },
   {
    "duration": 11,
    "start_time": "2023-01-09T23:00:56.545Z"
   },
   {
    "duration": 9,
    "start_time": "2023-01-09T23:00:56.558Z"
   },
   {
    "duration": 5,
    "start_time": "2023-01-09T23:00:56.569Z"
   },
   {
    "duration": 197,
    "start_time": "2023-01-09T23:00:56.576Z"
   },
   {
    "duration": 128,
    "start_time": "2023-01-09T23:00:56.775Z"
   },
   {
    "duration": 36,
    "start_time": "2023-01-09T23:00:56.904Z"
   },
   {
    "duration": 24,
    "start_time": "2023-01-09T23:00:56.942Z"
   },
   {
    "duration": 338,
    "start_time": "2023-01-09T23:00:56.969Z"
   },
   {
    "duration": 318,
    "start_time": "2023-01-09T23:00:57.308Z"
   },
   {
    "duration": 447,
    "start_time": "2023-01-09T23:00:57.628Z"
   },
   {
    "duration": 325,
    "start_time": "2023-01-09T23:00:58.076Z"
   },
   {
    "duration": 453,
    "start_time": "2023-01-09T23:00:58.403Z"
   },
   {
    "duration": 16,
    "start_time": "2023-01-09T23:00:58.859Z"
   },
   {
    "duration": 178,
    "start_time": "2023-01-09T23:00:58.877Z"
   },
   {
    "duration": 5,
    "start_time": "2023-01-09T23:00:59.057Z"
   },
   {
    "duration": 173,
    "start_time": "2023-01-09T23:00:59.064Z"
   },
   {
    "duration": 5,
    "start_time": "2023-01-09T23:00:59.239Z"
   },
   {
    "duration": 16,
    "start_time": "2023-01-09T23:00:59.246Z"
   },
   {
    "duration": 17,
    "start_time": "2023-01-09T23:00:59.264Z"
   },
   {
    "duration": 9,
    "start_time": "2023-01-09T23:00:59.283Z"
   },
   {
    "duration": 43,
    "start_time": "2023-01-09T23:00:59.294Z"
   },
   {
    "duration": 18,
    "start_time": "2023-01-09T23:00:59.339Z"
   },
   {
    "duration": 9,
    "start_time": "2023-01-09T23:00:59.359Z"
   },
   {
    "duration": 27,
    "start_time": "2023-01-09T23:00:59.369Z"
   },
   {
    "duration": 15,
    "start_time": "2023-01-09T23:00:59.400Z"
   },
   {
    "duration": 10,
    "start_time": "2023-01-09T23:00:59.437Z"
   },
   {
    "duration": 25,
    "start_time": "2023-01-09T23:00:59.449Z"
   },
   {
    "duration": 11,
    "start_time": "2023-01-09T23:00:59.476Z"
   },
   {
    "duration": 249,
    "start_time": "2023-01-09T23:00:59.489Z"
   },
   {
    "duration": 8,
    "start_time": "2023-01-09T23:00:59.739Z"
   },
   {
    "duration": 15,
    "start_time": "2023-01-09T23:00:59.748Z"
   },
   {
    "duration": 437,
    "start_time": "2023-01-09T23:00:59.765Z"
   },
   {
    "duration": 503,
    "start_time": "2023-01-09T23:01:00.204Z"
   },
   {
    "duration": 12,
    "start_time": "2023-01-10T00:19:35.364Z"
   },
   {
    "duration": 5,
    "start_time": "2023-01-10T00:25:59.085Z"
   },
   {
    "duration": 9,
    "start_time": "2023-01-10T00:26:11.395Z"
   },
   {
    "duration": 1304,
    "start_time": "2023-01-10T21:58:52.348Z"
   },
   {
    "duration": 3,
    "start_time": "2023-01-10T21:58:53.655Z"
   },
   {
    "duration": 7,
    "start_time": "2023-01-10T21:58:53.662Z"
   },
   {
    "duration": 3,
    "start_time": "2023-01-10T21:58:53.678Z"
   },
   {
    "duration": 6,
    "start_time": "2023-01-10T21:58:53.683Z"
   },
   {
    "duration": 95,
    "start_time": "2023-01-10T21:58:53.691Z"
   },
   {
    "duration": 12,
    "start_time": "2023-01-10T21:58:53.788Z"
   },
   {
    "duration": 8,
    "start_time": "2023-01-10T21:58:53.802Z"
   },
   {
    "duration": 16,
    "start_time": "2023-01-10T21:58:53.812Z"
   },
   {
    "duration": 10,
    "start_time": "2023-01-10T21:58:53.830Z"
   },
   {
    "duration": 20,
    "start_time": "2023-01-10T21:58:53.841Z"
   },
   {
    "duration": 198,
    "start_time": "2023-01-10T21:58:53.863Z"
   },
   {
    "duration": 29,
    "start_time": "2023-01-10T21:58:54.066Z"
   },
   {
    "duration": 9,
    "start_time": "2023-01-10T21:58:54.097Z"
   },
   {
    "duration": 32,
    "start_time": "2023-01-10T21:58:54.108Z"
   },
   {
    "duration": 40,
    "start_time": "2023-01-10T21:58:54.142Z"
   },
   {
    "duration": 6,
    "start_time": "2023-01-10T21:58:54.184Z"
   },
   {
    "duration": 23,
    "start_time": "2023-01-10T21:58:54.192Z"
   },
   {
    "duration": 23,
    "start_time": "2023-01-10T21:58:54.217Z"
   },
   {
    "duration": 6,
    "start_time": "2023-01-10T21:58:54.242Z"
   },
   {
    "duration": 180,
    "start_time": "2023-01-10T21:58:54.250Z"
   },
   {
    "duration": 128,
    "start_time": "2023-01-10T21:58:54.432Z"
   },
   {
    "duration": 28,
    "start_time": "2023-01-10T21:58:54.561Z"
   },
   {
    "duration": 33,
    "start_time": "2023-01-10T21:58:54.590Z"
   },
   {
    "duration": 354,
    "start_time": "2023-01-10T21:58:54.625Z"
   },
   {
    "duration": 297,
    "start_time": "2023-01-10T21:58:54.981Z"
   },
   {
    "duration": 503,
    "start_time": "2023-01-10T21:58:55.281Z"
   },
   {
    "duration": 353,
    "start_time": "2023-01-10T21:58:55.786Z"
   },
   {
    "duration": 388,
    "start_time": "2023-01-10T21:58:56.140Z"
   },
   {
    "duration": 11,
    "start_time": "2023-01-10T21:58:56.530Z"
   },
   {
    "duration": 154,
    "start_time": "2023-01-10T21:58:56.543Z"
   },
   {
    "duration": 4,
    "start_time": "2023-01-10T21:58:56.699Z"
   },
   {
    "duration": 168,
    "start_time": "2023-01-10T21:58:56.704Z"
   },
   {
    "duration": 7,
    "start_time": "2023-01-10T21:58:56.873Z"
   },
   {
    "duration": 15,
    "start_time": "2023-01-10T21:58:56.881Z"
   },
   {
    "duration": 27,
    "start_time": "2023-01-10T21:58:56.897Z"
   },
   {
    "duration": 15,
    "start_time": "2023-01-10T21:58:56.927Z"
   },
   {
    "duration": 111,
    "start_time": "2023-01-10T21:58:56.945Z"
   },
   {
    "duration": 24,
    "start_time": "2023-01-10T21:58:57.058Z"
   },
   {
    "duration": 6,
    "start_time": "2023-01-10T21:58:57.086Z"
   },
   {
    "duration": 31,
    "start_time": "2023-01-10T21:58:57.094Z"
   },
   {
    "duration": 28,
    "start_time": "2023-01-10T21:58:57.127Z"
   },
   {
    "duration": 26,
    "start_time": "2023-01-10T21:58:57.157Z"
   },
   {
    "duration": 28,
    "start_time": "2023-01-10T21:58:57.185Z"
   },
   {
    "duration": 13,
    "start_time": "2023-01-10T21:58:57.215Z"
   },
   {
    "duration": 236,
    "start_time": "2023-01-10T21:58:57.230Z"
   },
   {
    "duration": 14,
    "start_time": "2023-01-10T21:58:57.468Z"
   },
   {
    "duration": 11,
    "start_time": "2023-01-10T21:58:57.484Z"
   },
   {
    "duration": 408,
    "start_time": "2023-01-10T21:58:57.497Z"
   },
   {
    "duration": 394,
    "start_time": "2023-01-10T21:58:57.907Z"
   },
   {
    "duration": 11,
    "start_time": "2023-01-10T21:59:59.800Z"
   },
   {
    "duration": 14,
    "start_time": "2023-01-10T22:00:24.060Z"
   },
   {
    "duration": 200,
    "start_time": "2023-01-10T22:30:48.831Z"
   },
   {
    "duration": 159,
    "start_time": "2023-01-10T22:30:56.907Z"
   },
   {
    "duration": 178,
    "start_time": "2023-01-10T22:31:14.143Z"
   },
   {
    "duration": 166,
    "start_time": "2023-01-10T22:31:20.277Z"
   },
   {
    "duration": 5,
    "start_time": "2023-01-10T22:33:07.029Z"
   },
   {
    "duration": 9,
    "start_time": "2023-01-10T22:33:56.277Z"
   },
   {
    "duration": 10,
    "start_time": "2023-01-10T22:34:32.290Z"
   },
   {
    "duration": 8,
    "start_time": "2023-01-10T22:34:36.265Z"
   },
   {
    "duration": 9,
    "start_time": "2023-01-10T22:34:45.555Z"
   },
   {
    "duration": 9,
    "start_time": "2023-01-10T22:34:51.354Z"
   },
   {
    "duration": 9,
    "start_time": "2023-01-10T22:34:56.803Z"
   },
   {
    "duration": 9,
    "start_time": "2023-01-10T22:35:11.073Z"
   },
   {
    "duration": 1204,
    "start_time": "2023-01-10T23:07:49.667Z"
   },
   {
    "duration": 5,
    "start_time": "2023-01-10T23:07:50.873Z"
   },
   {
    "duration": 8,
    "start_time": "2023-01-10T23:07:50.880Z"
   },
   {
    "duration": 8,
    "start_time": "2023-01-10T23:07:50.890Z"
   },
   {
    "duration": 13,
    "start_time": "2023-01-10T23:07:50.900Z"
   },
   {
    "duration": 37,
    "start_time": "2023-01-10T23:07:50.915Z"
   },
   {
    "duration": 13,
    "start_time": "2023-01-10T23:07:50.954Z"
   },
   {
    "duration": 9,
    "start_time": "2023-01-10T23:07:50.969Z"
   },
   {
    "duration": 16,
    "start_time": "2023-01-10T23:07:50.980Z"
   },
   {
    "duration": 9,
    "start_time": "2023-01-10T23:07:50.998Z"
   },
   {
    "duration": 16,
    "start_time": "2023-01-10T23:07:51.009Z"
   },
   {
    "duration": 57,
    "start_time": "2023-01-10T23:07:51.027Z"
   },
   {
    "duration": 21,
    "start_time": "2023-01-10T23:07:51.086Z"
   },
   {
    "duration": 5,
    "start_time": "2023-01-10T23:07:51.109Z"
   },
   {
    "duration": 19,
    "start_time": "2023-01-10T23:07:51.115Z"
   },
   {
    "duration": 56,
    "start_time": "2023-01-10T23:07:51.137Z"
   },
   {
    "duration": 4,
    "start_time": "2023-01-10T23:07:51.195Z"
   },
   {
    "duration": 16,
    "start_time": "2023-01-10T23:07:51.201Z"
   },
   {
    "duration": 13,
    "start_time": "2023-01-10T23:07:51.219Z"
   },
   {
    "duration": 5,
    "start_time": "2023-01-10T23:07:51.234Z"
   },
   {
    "duration": 191,
    "start_time": "2023-01-10T23:07:51.241Z"
   },
   {
    "duration": 122,
    "start_time": "2023-01-10T23:07:51.434Z"
   },
   {
    "duration": 28,
    "start_time": "2023-01-10T23:07:51.558Z"
   },
   {
    "duration": 19,
    "start_time": "2023-01-10T23:07:51.587Z"
   },
   {
    "duration": 350,
    "start_time": "2023-01-10T23:07:51.607Z"
   },
   {
    "duration": 334,
    "start_time": "2023-01-10T23:07:51.959Z"
   },
   {
    "duration": 443,
    "start_time": "2023-01-10T23:07:52.295Z"
   },
   {
    "duration": 338,
    "start_time": "2023-01-10T23:07:52.742Z"
   },
   {
    "duration": 415,
    "start_time": "2023-01-10T23:07:53.082Z"
   },
   {
    "duration": 12,
    "start_time": "2023-01-10T23:07:53.498Z"
   },
   {
    "duration": 154,
    "start_time": "2023-01-10T23:07:53.511Z"
   },
   {
    "duration": 11,
    "start_time": "2023-01-10T23:07:53.667Z"
   },
   {
    "duration": 172,
    "start_time": "2023-01-10T23:07:53.680Z"
   },
   {
    "duration": 234,
    "start_time": "2023-01-10T23:07:53.854Z"
   },
   {
    "duration": 7,
    "start_time": "2023-01-10T23:07:54.090Z"
   },
   {
    "duration": 33,
    "start_time": "2023-01-10T23:07:54.099Z"
   },
   {
    "duration": 21,
    "start_time": "2023-01-10T23:07:54.135Z"
   },
   {
    "duration": 27,
    "start_time": "2023-01-10T23:07:54.159Z"
   },
   {
    "duration": 27,
    "start_time": "2023-01-10T23:07:54.187Z"
   },
   {
    "duration": 29,
    "start_time": "2023-01-10T23:07:54.216Z"
   },
   {
    "duration": 12,
    "start_time": "2023-01-10T23:07:54.248Z"
   },
   {
    "duration": 21,
    "start_time": "2023-01-10T23:07:54.278Z"
   },
   {
    "duration": 20,
    "start_time": "2023-01-10T23:07:54.301Z"
   },
   {
    "duration": 9,
    "start_time": "2023-01-10T23:07:54.323Z"
   },
   {
    "duration": 49,
    "start_time": "2023-01-10T23:07:54.333Z"
   },
   {
    "duration": 11,
    "start_time": "2023-01-10T23:07:54.384Z"
   },
   {
    "duration": 217,
    "start_time": "2023-01-10T23:07:54.396Z"
   },
   {
    "duration": 8,
    "start_time": "2023-01-10T23:07:54.616Z"
   },
   {
    "duration": 46,
    "start_time": "2023-01-10T23:07:54.626Z"
   },
   {
    "duration": 491,
    "start_time": "2023-01-10T23:07:54.675Z"
   },
   {
    "duration": 441,
    "start_time": "2023-01-10T23:07:55.168Z"
   }
  ],
  "kernelspec": {
   "display_name": "Python 3.10.1 64-bit",
   "language": "python",
   "name": "python3"
  },
  "language_info": {
   "codemirror_mode": {
    "name": "ipython",
    "version": 3
   },
   "file_extension": ".py",
   "mimetype": "text/x-python",
   "name": "python",
   "nbconvert_exporter": "python",
   "pygments_lexer": "ipython3",
   "version": "3.10.1"
  },
  "toc": {
   "base_numbering": "0",
   "nav_menu": {},
   "number_sections": true,
   "sideBar": true,
   "skip_h1_title": true,
   "title_cell": "Table of Contents",
   "title_sidebar": "Contents",
   "toc_cell": false,
   "toc_position": {
    "height": "calc(100% - 180px)",
    "left": "10px",
    "top": "150px",
    "width": "231px"
   },
   "toc_section_display": true,
   "toc_window_display": false
  },
  "vscode": {
   "interpreter": {
    "hash": "afb734500600fd355917ca529030176ea0ca205570884b88f2f6f7d791fd3fbe"
   }
  }
 },
 "nbformat": 4,
 "nbformat_minor": 2
}
